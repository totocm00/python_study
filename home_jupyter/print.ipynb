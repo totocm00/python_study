{
 "cells": [
  {
   "cell_type": "code",
   "execution_count": null,
   "id": "96c17ef4",
   "metadata": {},
   "outputs": [
    {
     "name": "stdout",
     "output_type": "stream",
     "text": [
      "당신의 키180.0cm 가 평균이려면\n",
      "68.4 ~ 75.6 사이 몸무게 \n",
      "\n",
      "평균입니다\n"
     ]
    }
   ],
   "source": [
    "# 표준 체중 = (키-100) x 0.9\n",
    "# user_high, user_weight = map(float, input(\"키와 몸무게를 입력하세요 : (키 몸무게)\").split())\n",
    "user_high = float(input(\"키를 입력하세요: \"))\n",
    "stand_weight = (user_high - 100) *0.9\n",
    "stand_low_weight = stand_weight *0.95\n",
    "stand_high_weight = stand_weight *1.05\n",
    "\n",
    "print(f\"당신의 키{user_high}cm 가 평균이려면\")\n",
    "print(f\"{stand_low_weight:.1f} ~ {stand_high_weight:.1f} 사이 몸무게 \\n\")\n",
    "\n",
    "user_weight = float(input(\"몸무게를 입력하세요: \"))\n",
    "\n",
    "if stand_low_weight > user_weight:\n",
    "    print(\"저체중입니다\")\n",
    "elif stand_high_weight < user_weight:\n",
    "    print(\"과체중입니다\")\n",
    "else:\n",
    "    print(\"평균입니다\")"
   ]
  },
  {
   "cell_type": "code",
   "execution_count": 153,
   "id": "39b46652",
   "metadata": {},
   "outputs": [
    {
     "name": "stdout",
     "output_type": "stream",
     "text": [
      "test4\n",
      "test3\n",
      "test2\n",
      "8 * 9 = ?안나올 때 무슨 결과인지 test용1\n",
      "one 08 two 9 fx * \n",
      "\n",
      "8 * 9 = ?\n",
      "오답입니다. 정답 72\n"
     ]
    }
   ],
   "source": [
    "print(\"test4\")\n",
    "import random\n",
    "\n",
    "# 1. 랜덤으로 덧셈, 뺄셈, 곱셈, 나눗셈을 하나의 함수에 담는다\n",
    "# 2. 두 정수값을 랜덤으로 생성하여 문제를 만든다 // 총 3가지 랜덤\n",
    "# 3. 사용자로부터 답을 입력받아 정답 혹은 오답을 판단하는 프로그램\n",
    "random.seed()\n",
    "operator_random = random.randint(1,4)\n",
    "# operator_fx = \"\"\n",
    "# if operator_random == 1:\n",
    "#     operator_fx = \"+\"\n",
    "# elif operator_random == 2:\n",
    "#     operator_fx = \"-\"\n",
    "# elif operator_random == 3:\n",
    "#     operator_fx = \"*\"\n",
    "# elif operator_random == 4:\n",
    "#     operator_fx = \"/\"\n",
    "# print(f\"램덤으로 뽑힌 연산자는 {operator_fx} 입니다\")\n",
    "\n",
    "#key : value 딕셔너리 형태\n",
    "# key 값은 +, -, *, / 의 문자열\n",
    "# value 는 람다식\n",
    "print(\"test3\")\n",
    "operations = {\n",
    "    \"+\" : lambda a, b: a + b,\n",
    "    \"-\" : lambda a, b: a - b,\n",
    "    \"*\" : lambda a, b: a * b,\n",
    "    \"/\" : lambda a, b: a / b\n",
    "    if b != 0\n",
    "    else \"나눗셈 오류\"\n",
    "}\n",
    "# 랜덤 연산자를 선택 // random.choice는 list 형태로 받음\n",
    "# 자료형변환으로 오퍼레이션.키즈를 딕셔너리에서 리스트로 바꿔줌\n",
    "print(\"test2\")\n",
    "operator_fx = random.choice(list(operations.keys()))\n",
    "integer_random_one, integer_random_two = [random.randint(1, 10) for _ in range(2)]\n",
    "msg = f\"{integer_random_one} {operator_fx} {integer_random_two} = ?\"\n",
    "print(msg + \"안나올 때 무슨 결과인지 test용1\")\n",
    "print(f\"one 0{integer_random_one}\",f\"two {integer_random_two}\",f\"fx {operator_fx} \\n\" )\n",
    "print(msg)\n",
    "\n",
    "answer = operations[operator_fx](integer_random_one, integer_random_two)\n",
    "if float(answer) == 1:\n",
    "    \"{answer} = {answer}:.2f\"\n",
    "\n",
    "try:\n",
    "    user_correct = float(input(\"답을 적어주세요 : \"))\n",
    "\n",
    "    if isinstance(answer, str):\n",
    "        print(\"계산할 수 없는 문제 - 나눗셈 오류\")\n",
    "    elif operator_fx == \"/\" and abs(user_correct - answer) < 0.01:\n",
    "        print([\"*\" for _ in range(5)])\n",
    "        print(\"정답!\")\n",
    "    elif user_correct == answer:\n",
    "        print([\"정답\" for _ in range(3)])\n",
    "        print(\"정답임!\")\n",
    "    else:\n",
    "        print(f\"오답입니다. 정답 {answer}\")\n",
    "except ValueError:\n",
    "    print(\"숫자만 입력하세요\")"
   ]
  },
  {
   "cell_type": "code",
   "execution_count": null,
   "id": "b9f15db5",
   "metadata": {},
   "outputs": [
    {
     "name": "stdout",
     "output_type": "stream",
     "text": [
      "답은 9.29 이다 - 소숫점 2번째 까지 출력\n"
     ]
    }
   ],
   "source": [
    "# 정의되는 함수값을 계산.\n",
    "# 사용자로부터 x값을 입력받아 계산.\n",
    "# X는 실수\n",
    "# f(x) = { x**2 - 9x + 2    x<=0\n",
    "#        { 7x + 2           x>=0\n",
    "user_float_input = float(input(\"x : 실수 값을 입력하세요 \"))\n",
    "answer_float = 0\n",
    "if user_float_input <= 0:\n",
    "    answer_float = user_float_input**2 - 9*user_float_input + 2\n",
    "else:\n",
    "    answer_float = 7*user_float_input + 2\n",
    "print(f\"답은 {answer_float:.2f} 이다. 소숫점 2번째 까지 출력\")"
   ]
  },
  {
   "cell_type": "code",
   "execution_count": 7,
   "id": "a7941101",
   "metadata": {},
   "outputs": [
    {
     "name": "stdout",
     "output_type": "stream",
     "text": [
      "개띠\n"
     ]
    }
   ],
   "source": [
    "# 연도를 입력하면 띠를 출력하는 프로그램을 작성.\n",
    "# 띠는 연도를 12로 나누어 결정\n",
    "# 나머지가 0이면 원숭이띠, 1이면 닭띠, 2이면 개띠, ...11이면 양띠\n",
    "\n",
    "year_input = int(input(\"연도 입력\"))\n",
    "zodiac_sign = [\"원숭이\", \"닭\", \"개\", \"돼지\", \"쥐\", \"소\",\n",
    "               \"호랑이\", \"토끼\", \"용\", \"뱀\", \"말\", \"양\"]\n",
    "input_zodiac = year_input % 12\n",
    "\n",
    "print(zodiac_sign[input_zodiac] + \"띠\")"
   ]
  },
  {
   "cell_type": "code",
   "execution_count": 10,
   "id": "db59498f",
   "metadata": {},
   "outputs": [
    {
     "name": "stdout",
     "output_type": "stream",
     "text": [
      "윤년 x\n"
     ]
    }
   ],
   "source": [
    "# 윤년은 2월달이 29일 까지 있는 연도이다.\n",
    "# 연도가 4로 나누어지지만 100으로 나누어지지 않거나\n",
    "# 또는 연도가 400으로 나누어 떨어지면 윤년이다.\n",
    "# 사용자가 연도를 입력하면 윤년을 판별할 수 있는 프로그램 작성.\n",
    "\n",
    "year = int(input())\n",
    "if (year % 4 == 0) and ((year % 100 != 0) or (year % 400 ==0)):\n",
    "    print(f\"{year}년은 윤년\")\n",
    "else:\n",
    "    print(\"윤년 x\")"
   ]
  },
  {
   "cell_type": "code",
   "execution_count": null,
   "id": "d2543d94",
   "metadata": {},
   "outputs": [
    {
     "name": "stdout",
     "output_type": "stream",
     "text": [
      "Python Express\n"
     ]
    }
   ],
   "source": [
    "# 사용자로부터 정수를 받아서 3의 배수이면 \"Python\" 를 출력한다\n",
    "# 만약 5의 배수이면 \"Express\"을 출력한다.\n",
    "# 만약 3의 배수이면서 5의 배수이면 \"Python Express\"를 출력한다\n",
    "\n",
    "def check_multiple(num):\n",
    "    result = \"\"\n",
    "    if num % 3 == 0:\n",
    "        result += \"Python \"\n",
    "    if num % 5 == 0:\n",
    "        result += \"Express\"\n",
    "    print(result.strip() if result else \"정수를 입력하세요\")\n",
    "\n",
    "integer_input = int(input())\n",
    "check_multiple(integer_input)\n",
    "\n",
    "# strip() 는 문장 양 끝의 공백을 제거한다\n",
    "# <A> if <조건> else <B>  ->  조건이 참이면 A, 아니면 B 반환\n",
    "# A와 B에는 내가 만든 함수를 비교식으로 넣어도 가능하다\n",
    "# 간단한 내용은 삼항연산자로 표현하면 간결하지만\n",
    "# 긴 내용은 가독성을 해치기 때문에 비추천"
   ]
  },
  {
   "cell_type": "code",
   "execution_count": null,
   "id": "933fa87d",
   "metadata": {},
   "outputs": [
    {
     "name": "stdout",
     "output_type": "stream",
     "text": [
      "* \n",
      "* * \n",
      "* * * \n",
      "* * * * \n",
      "* * * * * \n"
     ]
    }
   ],
   "source": [
    "# 5\n",
    "# 중첩 반복문을 사용하여 입력된 정수만큼 *를 순차적으로 출력\n",
    "input_x = int(input())\n",
    "for i in range(1,input_x+1):\n",
    "    for _ in range(i):\n",
    "        print(\"*\",end=\" \")\n",
    "    print()"
   ]
  },
  {
   "cell_type": "code",
   "execution_count": 21,
   "id": "7c0b8ed2",
   "metadata": {},
   "outputs": [
    {
     "name": "stdout",
     "output_type": "stream",
     "text": [
      "1\n",
      "1\n",
      "0\n",
      "0\n"
     ]
    }
   ],
   "source": [
    "a, b, c = map(int, input().split())\n",
    "\n",
    "print((a+b)%c)\n",
    "print(((a%c) + (b%c))%c)\n",
    "print((a*b)%c)\n",
    "print(((a%c) * (b%c))%c)\n"
   ]
  },
  {
   "cell_type": "code",
   "execution_count": 3,
   "id": "5044bf4b",
   "metadata": {},
   "outputs": [
    {
     "name": "stdout",
     "output_type": "stream",
     "text": [
      "1. 가장 작은 n은 23\n",
      "2. 가장 작은 w은 23\n"
     ]
    }
   ],
   "source": [
    "# 8\n",
    "# while을 사용하여 n**2 > 500 인 n 중에서 가장 작은 n을 찾는 프로그램\n",
    "n = 1\n",
    "while 1:\n",
    "    if n * n > 500:\n",
    "        break\n",
    "    n += 1\n",
    "print(f\"1. 가장 작은 n은 {n}\")\n",
    "\n",
    "w = 1\n",
    "while w * w <= 500:\n",
    "    w += 1\n",
    "print(f\"2. 가장 작은 w은 {w}\")\n",
    "\n"
   ]
  },
  {
   "cell_type": "code",
   "execution_count": 16,
   "id": "6801a99e",
   "metadata": {},
   "outputs": [
    {
     "name": "stdout",
     "output_type": "stream",
     "text": [
      "1. 1부터 5까지의 제곱의 합 : 55\n",
      "2. 1부터 5까지의 제곱의 합 : 55\n",
      "3. 1부터 5까지의 제곱의 합 : 55\n"
     ]
    }
   ],
   "source": [
    "# 10\n",
    "# 1**2 + 2**2 + 3**2 + 4**2 ... n**2 의 값을 계산하여 출력\n",
    "\n",
    "n_input = int(input(\"n 값 입력 : \"))\n",
    "sum_twoSquared = 0\n",
    "i = 1\n",
    "while i <= n_input:\n",
    "    sum_twoSquared += i * i\n",
    "    i += 1\n",
    "print(f\"1. 1부터 {n_input}까지의 제곱의 합 : {sum_twoSquared}\")\n",
    "\n",
    "\n",
    "sum_squared = 0\n",
    "for vv in range(1, n_input +1):\n",
    "    sum_squared += vv * vv\n",
    "print(f\"2. 1부터 {n_input}까지의 제곱의 합 : {sum_squared}\")\n",
    "\n",
    "# 자연수 제곱합 공식 ( 수학 공식 버전)\n",
    "# 1**2 + 2**2 + 3**2 + ... + n**2\n",
    "# n(n + 1)(2n + 1)\n",
    "#------------------\n",
    "#        6\n",
    "# --> n *(n+1) * (2*n+1) // 6   # 정수 나눗셈\n",
    "n = n_input\n",
    "sum_fast = n *(n+1) * (2*n+1) // 6\n",
    "print(f\"3. 1부터 {n}까지의 제곱의 합 : {sum_fast}\")"
   ]
  },
  {
   "cell_type": "code",
   "execution_count": null,
   "id": "3fc63bf9",
   "metadata": {},
   "outputs": [
    {
     "name": "stdout",
     "output_type": "stream",
     "text": [
      "3와 6의 최대공약수는 3\n",
      "3와 6의 최대공약수는 3입니다.\n",
      "12\n"
     ]
    }
   ],
   "source": [
    "# 11\n",
    "# 사용자가 2개의 정수(a와 b)를 입력하면 이들 정수의 최대 공약수를 찾아라.\n",
    "# 예를 들어 3과 6의 최대 공약수는 3.\n",
    "\n",
    "def common_divisor(one, two):\n",
    "    one_two_cd = 1\n",
    "    for i in range(1, min(one, two) + 1):\n",
    "        if one % i == 0 and two % i == 0:\n",
    "            one_two_cd = i\n",
    "    return one_two_cd\n",
    "\n",
    "one_ip, two_ip = map(int, input(\"정수 2개 입력 :(x y)\").split())\n",
    "print(f\"{one_ip}와 {two_ip}의 최대공약수는 {common_divisor(one_ip, two_ip)}\")\n",
    "\n",
    "\n",
    "# 유클리드 호제법\n",
    "# python의 동시할당(multiple assignment) 사용\n",
    "def gcd(a, b):\n",
    "    while b:\n",
    "        a, b = b, a % b\n",
    "    return a\n",
    "x, y = map(int, input(\"정수 2개 입력: \").split())\n",
    "print(f\"{x}와 {y}의 최대공약수는 {gcd(x, y)}입니다.\")\n",
    "\n",
    "# 오른쪽 b와 a%b 를 먼저 계산\n",
    "# 그 결과를 동시에 왼쪽 변수와 a와 b에 할당\n",
    "# temp = a\n",
    "# a = b\n",
    "# b = temp % b\n",
    "\n",
    "\n",
    "# a = 48\n",
    "# b = 18\n",
    "# a, b = b, a % b\n",
    "\n",
    "# a, b = 18, 12   # 48 % 18 = 12\n",
    "# a, b = 12, 6    # 18 % 12 = 6\n",
    "# a, b = 6, 0     # 12 % 6 = 0 → b가 0이므로 종료\n",
    "\n",
    "\n",
    "# a % b = 48 % 18 = 12\n",
    "# a 는 b의 값 18을 받고\n",
    "# b는 a % b의 결과 12를 받음\n",
    "# 1. a, b = 48, 18 → 48 % 18 = 12 → 다음 단계로\n",
    "# 2. a, b = 18, 12 → 18 % 12 = 6 → 다음\n",
    "# 3. a, b = 12, 6 → 12 % 6 = 0 → 끝!"
   ]
  },
  {
   "cell_type": "code",
   "execution_count": null,
   "id": "410bb2a8",
   "metadata": {},
   "outputs": [],
   "source": [
    "# 13\n",
    "# 피보나치 수열을 정수 n를 입력 받아 n차까지 출력하는 프로그램\n",
    "# f(0) = 0\n",
    "# f(1) = 1\n",
    "# f(i+1) = f(i) + f(i-1) for i = 1,2...\n",
    "\n",
    "# 피보나치 수열(Fibonacci Sequence)\n",
    "# f(0) = 0\n",
    "# f(1) = 1\n",
    "# f(n) = f(n-1) + f(n-2)  (n >= 2)\n",
    "# 이전 두 수를 더해서 다음 수를 만드는 수열\n",
    "\n",
    "# n = 0: 0  \n",
    "# n = 1: 1  \n",
    "# n = 2: 0 + 1 = 1  \n",
    "# n = 3: 1 + 1 = 2  \n",
    "# n = 4: 1 + 2 = 3  \n",
    "# n = 5: 2 + 3 = 5  \n",
    "# n = 6: 3 + 5 = 8  \n",
    "# n = 7: 5 + 8 = 13  \n",
    "# ...\n",
    "# 즉, 0, 1, 1, 2, 3, 5, 8, 13, 21, 34, ..."
   ]
  },
  {
   "cell_type": "code",
   "execution_count": 23,
   "id": "e23a3b34",
   "metadata": {},
   "outputs": [
    {
     "name": "stdout",
     "output_type": "stream",
     "text": [
      "피보나치 수열:\n",
      "0 1 1 2 3 5 8 13 "
     ]
    }
   ],
   "source": [
    "# 13 -1\n",
    "\n",
    "\n",
    "# 사용자로부터 정수 입력\n",
    "n = int(input(\"피보나치 수열을 몇 번째(n)까지 출력할까요? \"))\n",
    "\n",
    "# 초기 피보나치 수열 정의\n",
    "f0 = 0\n",
    "f1 = 1\n",
    "\n",
    "# 출력 시작\n",
    "print(\"피보나치 수열:\")\n",
    "\n",
    "for i in range(n + 1):  # 0부터 n까지 포함되도록 n+1\n",
    "    if i == 0:\n",
    "        print(f0, end=' ')\n",
    "    elif i == 1:\n",
    "        print(f1, end=' ')\n",
    "    else:\n",
    "        fn = f0 + f1\n",
    "        print(fn, end=' ')\n",
    "        f0 = f1  # 이전 값 업데이트\n",
    "        f1 = fn  # 현재 값 업데이트"
   ]
  },
  {
   "cell_type": "code",
   "execution_count": null,
   "id": "2f7ab73c",
   "metadata": {},
   "outputs": [
    {
     "name": "stdout",
     "output_type": "stream",
     "text": [
      "[5, 7, 11, 13, 17, 19]\n"
     ]
    }
   ],
   "source": [
    "# 14\n",
    "# 2와 20 사이에 있는 모든 소수를 찾는 프로그램\n",
    "# (예제 7은 소수, 자신과 1만이 약수) 나누었을 때 몫이 0\n",
    "minority = []\n",
    "for i in range(2,21):\n",
    "    if i % i== 0:\n",
    "        if i % 2 != 0 and i % 3 != 0:\n",
    "            minority.append(i)\n",
    "print(minority)\n",
    "\n",
    "\n"
   ]
  },
  {
   "cell_type": "code",
   "execution_count": null,
   "id": "2b53c6fc",
   "metadata": {},
   "outputs": [
    {
     "name": "stdout",
     "output_type": "stream",
     "text": [
      "번호를 누르면 해당하는 수에 맞춰서 동작합니다.\n",
      "문제: 7 + 10 = ?\n",
      "정답: 17\n"
     ]
    }
   ],
   "source": [
    "# 6\n",
    "import random\n",
    "import time\n",
    "print(\"번호를 누르면 해당하는 수에 맞춰서 동작합니다.\")\n",
    "user_correct_number = int(input(\"1.1~10랜덤수2개 2.1~100랜덤수2개 3.오늘날짜 월/일 2개\"))\n",
    "user_correct_math = int(input(\"실행할 연산 선택 : 1.덧셈 2.뺄셈 3.곱셈 4.나눗셈\"))\n",
    "\n",
    "ran_ten = random.randint(1,10)\n",
    "ran_hundred = random.randint(1,100)\n",
    "now = time.localtime()\n",
    "month = now.tm_mon\n",
    "day = now.tm_mday\n",
    "\n",
    "arithmetic_choice = [\n",
    "    lambda a, b : a + b,\n",
    "    lambda a, b : a - b,\n",
    "    lambda a, b : a * b,\n",
    "    lambda a, b : a / b if b != 0 else \"0으로 나누기 x\"\n",
    "]\n",
    "\n",
    "user_num_choice = []\n",
    "if user_correct_number == 1:\n",
    "    user_num_choice = [ran_ten for _ in range(2)]\n",
    "if user_correct_number == 2:\n",
    "    user_num_choice = [ran_hundred for _ in range(2)]\n",
    "if user_correct_number == 3:\n",
    "    user_num_choice = [month, day]\n",
    "\n",
    "def make_math_quiz(input1,input2,oper_index):\n",
    "    arith_choice = arithmetic_choice[oper_index -1]\n",
    "    answer = arith_choice(input1,input2)\n",
    "    print(f\"문제: {input1} {'+ - * /'[oper_index-1]} {input2} = ?\")\n",
    "    print(f\"정답: {answer}\")\n",
    "    \n",
    "make_math_quiz(user_num_choice[0],user_num_choice[1],user_correct_math)"
   ]
  },
  {
   "cell_type": "code",
   "execution_count": 4,
   "id": "ceb1fb2f",
   "metadata": {},
   "outputs": [
    {
     "name": "stdout",
     "output_type": "stream",
     "text": [
      "정확한 수를 입력해야 탈출 가능\n",
      "일 다시 입력\n",
      "일 다시 입력\n",
      "일 다시 입력\n",
      "일 다시 입력\n",
      "일 다시 입력\n",
      "11월12일\n"
     ]
    }
   ],
   "source": [
    "# 7\n",
    "def mon_re():\n",
    "    month_input = int(input(\"월을 입력하시오(1부터 12사이의 값) : \"))\n",
    "    return month_input\n",
    "def day_re():    \n",
    "    day_input = int(input(\"일을 입력하시오(1부터 31사이의 값) : \"))\n",
    "    return day_input\n",
    "\n",
    "def getIntRange(a,b,msg):\n",
    "    print(msg)\n",
    "    mon_count = 0    \n",
    "    day_count = 0    \n",
    "    while not (1 <= a <= 12):\n",
    "        print(\"월 다시 입력\")\n",
    "        a = mon_re()\n",
    "        if (1 <= a <= 12):\n",
    "            break\n",
    "        mon_count += 1\n",
    "    while not (1 <= b <= 31):\n",
    "        print(\"일 다시 입력\")\n",
    "        b = day_re()\n",
    "        if (1 <= b <= 31):\n",
    "            break\n",
    "        day_count += 1\n",
    "\n",
    "    msg = \"탈출을 축하 합니다\"\n",
    "    mon_day = f\"{a}월{b}일\"\n",
    "    result = [a,b,msg,mon_day,mon_count,day_count]          \n",
    "    return result\n",
    "\n",
    "a = mon_re()\n",
    "b = day_re()\n",
    "msg = \"정확한 수를 입력해야 탈출 가능\"\n",
    "getMonDay = getIntRange(a,b,msg)\n",
    "print(getMonDay[3])"
   ]
  },
  {
   "cell_type": "code",
   "execution_count": 6,
   "id": "fb51585d",
   "metadata": {},
   "outputs": [
    {
     "name": "stdout",
     "output_type": "stream",
     "text": [
      "정확한 수를 입력해야 탈출 가능\n",
      "일 다시 입력\n",
      "일 다시 입력\n",
      "일 다시 입력\n",
      "일 다시 입력\n",
      "일 다시 입력\n",
      "4월31일\n"
     ]
    }
   ],
   "source": [
    "# 7\n",
    "def mon_re():\n",
    "    month_input = int(input(\"월을 입력하시오(1부터 12사이의 값) : \"))\n",
    "    return month_input\n",
    "def day_re():    \n",
    "    day_input = int(input(\"일을 입력하시오(1부터 31사이의 값) : \"))\n",
    "    return day_input\n",
    "\n",
    "def loop_input(star1,end1,inputS,msg,fun_re):\n",
    "    count = 0\n",
    "    while not (star1 <= inputS <= end1):\n",
    "        print(msg)\n",
    "        inputS = fun_re()\n",
    "        if (star1 <= inputS <= end1):\n",
    "            break\n",
    "        count += 1\n",
    "    return inputS,count\n",
    "\n",
    "def getIntRange(a,b,msg):\n",
    "    print(msg)  \n",
    "    a, mon_count = loop_input(1, 12, a, \"월 다시 입력\", mon_re)\n",
    "    b, day_count = loop_input(1, 31, b, \"일 다시 입력\", day_re)\n",
    "\n",
    "    msg = \"탈출을 축하 합니다\"\n",
    "    mon_day = f\"{a}월{b}일\"\n",
    "    result = [a,b,msg,mon_day,mon_count,day_count]          \n",
    "    return result\n",
    "\n",
    "a = mon_re()\n",
    "b = day_re()\n",
    "msg = \"정확한 수를 입력해야 탈출 가능\"\n",
    "getMonDay = getIntRange(a,b,msg)\n",
    "print(getMonDay[3])"
   ]
  },
  {
   "cell_type": "code",
   "execution_count": null,
   "id": "ee444082",
   "metadata": {},
   "outputs": [
    {
     "name": "stdout",
     "output_type": "stream",
     "text": [
      "숫자: 9999만원\n",
      "한글: 구천구백구십구만원\n"
     ]
    }
   ],
   "source": [
    "# 8\n",
    "\n",
    "# 상수로 고정 값\n",
    "# KOREAN_NUMS(한글매핑), UNITS(자릿수)\n",
    "KOREAN_NUMS = [\"\", \"일\", \"이\", \"삼\", \"사\", \"오\", \"육\", \"칠\", \"팔\", \"구\"]\n",
    "UNITS = [\"천\", \"백\", \"십\", \"\"]\n",
    "\n",
    "def convert_to_korean_money(amount):\n",
    "    str_amount = str(amount)\n",
    "    len_amount = len(str_amount)\n",
    "    result = \"\"\n",
    "\n",
    "    # 핵심\n",
    "    # 슬라이싱으로 동적 제어해서 필요한 데이터만 쑉 뽑아 씀\n",
    "    sliced_units = UNITS[-len_amount:]\n",
    "\n",
    "    for i in range(len_amount):\n",
    "\n",
    "        # 각각 배열의 i번째를 들고와서 비교함\n",
    "        digit = int(str_amount[i]) # 현재 자리 숫자 123입력 -> \"123\" -> \"1\",\"2\",\"3\"\n",
    "        unit = sliced_units[i] # 자릿수 단위 저장\n",
    "\n",
    "        if digit == 0:     #일백 영 칠 (107) 이라고 안 읽으니까 0 = 영 을 뻄\n",
    "            continue\n",
    "\n",
    "        if digit == 1 and unit != \"\": # 일 생략함 숫자가 1이고 단위가 있다면 ex)일백 -> 백\n",
    "            result += unit\n",
    "        else:\n",
    "            result += KOREAN_NUMS[digit] + unit\n",
    "    return result\n",
    "\n",
    "amount = int(input(\"숫자를 입력 (1~10000): \"))\n",
    "if 1 <= amount < 10000:\n",
    "    print(f\"숫자: {amount} 만원\")\n",
    "    print(f\"한글: {convert_to_korean_money(amount)} 만원\")\n",
    "else:\n",
    "    print(\"1부터 10000 사이의 숫자만 입력하세요.\")\n"
   ]
  }
 ],
 "metadata": {
  "kernelspec": {
   "display_name": ".venv",
   "language": "python",
   "name": "python3"
  },
  "language_info": {
   "codemirror_mode": {
    "name": "ipython",
    "version": 3
   },
   "file_extension": ".py",
   "mimetype": "text/x-python",
   "name": "python",
   "nbconvert_exporter": "python",
   "pygments_lexer": "ipython3",
   "version": "3.13.5"
  }
 },
 "nbformat": 4,
 "nbformat_minor": 5
}
