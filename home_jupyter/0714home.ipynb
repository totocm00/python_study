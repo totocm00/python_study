{
 "cells": [
  {
   "cell_type": "code",
   "execution_count": 1,
   "id": "3e71554b",
   "metadata": {},
   "outputs": [
    {
     "name": "stdout",
     "output_type": "stream",
     "text": [
      "{1: 1, 2: 8, 3: 27, 4: 64, 5: 125}\n"
     ]
    }
   ],
   "source": [
    "cube_dict = {x: x**3 for x in range(1, 6)}\n",
    "print(cube_dict)"
   ]
  },
  {
   "cell_type": "code",
   "execution_count": null,
   "id": "d8aad8ab",
   "metadata": {},
   "outputs": [
    {
     "name": "stdout",
     "output_type": "stream",
     "text": [
      "('apple', 1)\n",
      "('banan', 2)\n",
      "('grape', 3)\n"
     ]
    }
   ],
   "source": [
    "# 3\n",
    "def print_dic_List(d):\n",
    "    for item in d.items():\n",
    "        print(item)\n",
    "        \n",
    "d = {\"apple\": 1, \"banan\":2, \"grape\": 3}\n",
    "# for item in d.items():\n",
    "#     print(item)\n",
    "print_dic_List(d)"
   ]
  },
  {
   "cell_type": "code",
   "execution_count": null,
   "id": "18bf1f02",
   "metadata": {},
   "outputs": [
    {
     "name": "stdout",
     "output_type": "stream",
     "text": [
      "1\n",
      "<class 'str'>\n",
      "키값 : 1, 입력한 값 : 1\n",
      "해당 키 값의 숨겨진 숫자는: 10\n"
     ]
    }
   ],
   "source": [
    "# 4\n",
    "def is_check_keyAndInput(key,value,user_input):\n",
    "    if key == int(user_input):\n",
    "        print(f\"키값 : {key}, 입력한 값 : {user_input}\")\n",
    "        print(f\"해당 키 값의 숨겨진 숫자는: {value}\")\n",
    "\n",
    "d = {1: 10, 2:20, 3:30, 4:40, 5:50, 6:60}\n",
    "user_input = input()\n",
    "# print(user_input)\n",
    "# print(type(user_input))\n",
    "for key, value in d.items():\n",
    "    # print(key,type(key))\n",
    "    is_check_keyAndInput(key,value,user_input)"
   ]
  },
  {
   "cell_type": "code",
   "execution_count": 21,
   "id": "022c1535",
   "metadata": {},
   "outputs": [
    {
     "name": "stdout",
     "output_type": "stream",
     "text": [
      "2420\n"
     ]
    }
   ],
   "source": [
    "# 5\n",
    "def sum_price(my_dic):\n",
    "    price = 0\n",
    "    for key, value in my_dic.items():\n",
    "        price += value\n",
    "    return price\n",
    "\n",
    "my_dic = {\"옷\":100, \"컴퓨터\":2000,\"모니터\":320}\n",
    "price = sum_price(my_dic)\n",
    "print(price)"
   ]
  },
  {
   "cell_type": "code",
   "execution_count": 26,
   "id": "a59449d9",
   "metadata": {},
   "outputs": [
    {
     "name": "stdout",
     "output_type": "stream",
     "text": [
      "{1: '노래', 2: '코딩', 3: '뿌뿌뿌', 4: '쿠아앙', 5: '우왕'}\n",
      "{1: '노비', 2: '코피', 3: '뿡', 4: '쿠아앙', 5: '우왕'}\n"
     ]
    }
   ],
   "source": [
    "# 6\n",
    "list_key = [1,2,3,4,5]\n",
    "list_value = [\"노래\",\"코딩\",\"뿌뿌뿌\",\"쿠아앙\",\"우왕\"]\n",
    "list_dic = {}\n",
    "list_dic = {key : val for key, val in zip(list_key, list_value)}\n",
    "print(list_dic)\n",
    "\n",
    "list_key = [1,2,3,4,5,6]\n",
    "list_value = [\"노비\",\"코피\",\"뿡\",\"쿠아앙\",\"우왕\"]\n",
    "list_dics = dict(zip(list_key, list_value))\n",
    "print(list_dics)"
   ]
  },
  {
   "cell_type": "code",
   "execution_count": 30,
   "id": "cc1f7d20",
   "metadata": {},
   "outputs": [
    {
     "name": "stdout",
     "output_type": "stream",
     "text": [
      "1 -> January\n"
     ]
    }
   ],
   "source": [
    "# 8\n",
    "def print_choice_moon_nam(user_inp):\n",
    "    for key, value in list_month_nam.items():\n",
    "        if user_inp == key:\n",
    "            print(f\"{key} -> {value}\")\n",
    "\n",
    "\n",
    "list_month_nam = {1:\"January\", 2:\"February\", 3:\"March\", 4:\"April\",\n",
    "                  5:\"May\", 6:\"June\", 7:\"July\", 8:\"August\", 9: \"September\",\n",
    "                  10:\"October\", 11:\"Novermber\", 12:\"December\"}\n",
    "\n",
    "user_inp = int(input(\"원하는 달의 숫자를 입력: \"))\n",
    "print_choice_moon_nam(user_inp)"
   ]
  },
  {
   "cell_type": "code",
   "execution_count": null,
   "id": "fcca62ce",
   "metadata": {},
   "outputs": [
    {
     "name": "stdout",
     "output_type": "stream",
     "text": [
      "['a', 's']\n",
      "['a', 's']\n"
     ]
    }
   ],
   "source": [
    "# 9\n",
    "def print_str_list(input_iput):\n",
    "    answer_list = list(set(input_iput[0]) & set(input_iput[1]))\n",
    "    print(answer_list)\n",
    "\n",
    "input_iput = list(map(str, input(\"문자열을 두 개 입력: (x y):\").split()))\n",
    "# result_list = [x for x in input_iput[0] if x in input_iput[1]] # lost_first\n",
    "# print(result_list)\n",
    "\n",
    "# result_list_second = [x for x in input_iput[1] if x in input_iput[0]] \n",
    "# reslut = result_list_first + result_list_second -> 겹치지 않는 것들\n",
    "\n",
    "print_str_list(input_iput)"
   ]
  },
  {
   "cell_type": "code",
   "execution_count": null,
   "id": "c1aba213",
   "metadata": {},
   "outputs": [
    {
     "name": "stdout",
     "output_type": "stream",
     "text": [
      "{80, 20, 70, 10}\n"
     ]
    }
   ],
   "source": [
    "# 10\n",
    "def print_sym_dif(set1, set2):\n",
    "    return print(set1.symmetric_difference(set2))\n",
    "set1 = {x*10 for x in range(1,7)}\n",
    "set2 = {x*10 for x in range(3,9)}\n",
    "\n",
    "print_sym_dif(set1,set2)"
   ]
  }
 ],
 "metadata": {
  "kernelspec": {
   "display_name": ".venv",
   "language": "python",
   "name": "python3"
  },
  "language_info": {
   "codemirror_mode": {
    "name": "ipython",
    "version": 3
   },
   "file_extension": ".py",
   "mimetype": "text/x-python",
   "name": "python",
   "nbconvert_exporter": "python",
   "pygments_lexer": "ipython3",
   "version": "3.13.5"
  }
 },
 "nbformat": 4,
 "nbformat_minor": 5
}
