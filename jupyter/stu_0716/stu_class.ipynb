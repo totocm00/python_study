{
 "cells": [
  {
   "cell_type": "code",
   "execution_count": null,
   "id": "1934eee5",
   "metadata": {},
   "outputs": [
    {
     "name": "stdout",
     "output_type": "stream",
     "text": [
      "60\n",
      "90\n"
     ]
    }
   ],
   "source": [
    "class Car:\n",
    "    clolor = \"\"\n",
    "    speed = 0\n",
    "    def __init__(self):\n",
    "        self.clolor = \"\"\n",
    "        self.speed = 30\n",
    "    def upSpeed(self, value):\n",
    "        self.speed += value\n",
    "    def downSpeed(self, value):\n",
    "        self.downSpeed -= value\n",
    "    #추가된 메서드\n",
    "    def printMessage(self) :\n",
    "        print(\"시험 출력이다.\")\n",
    "\n",
    "car1 = Car()\n",
    "car1.upSpeed(30)\n",
    "print(car1.speed)\n",
    "\n",
    "car1.upSpeed(30)\n",
    "print(car1.speed)\n"
   ]
  },
  {
   "cell_type": "code",
   "execution_count": 45,
   "id": "c3f31a96",
   "metadata": {},
   "outputs": [
    {
     "name": "stdout",
     "output_type": "stream",
     "text": [
      "<__main__.Car object at 0x0000021DA0A93610>\n",
      "<__main__.Car object at 0x0000021DA0A92D50>\n",
      "<__main__.Car object at 0x0000021DA0921A70>\n",
      "빨강 0\n",
      "파랑 0\n",
      "노랑 0\n"
     ]
    }
   ],
   "source": [
    "myCar1 = Car()\n",
    "myCar2 = Car()\n",
    "myCar3 = Car()\n",
    "print(myCar1)\n",
    "print(myCar2)\n",
    "print(myCar3)\n",
    "\n",
    "myCar1.clolor = \"빨강\"\n",
    "myCar1.speed = 0\n",
    "myCar2.clolor = \"파랑\"\n",
    "myCar2.speed = 0\n",
    "myCar3.clolor = \"노랑\"\n",
    "myCar3.speed = 0\n",
    "\n",
    "print(myCar1.clolor,myCar1.speed)\n",
    "print(myCar2.clolor,myCar2.speed)\n",
    "print(myCar3.clolor,myCar3.speed)"
   ]
  },
  {
   "cell_type": "code",
   "execution_count": 52,
   "id": "84ad1c03",
   "metadata": {},
   "outputs": [
    {
     "name": "stdout",
     "output_type": "stream",
     "text": [
      "시험 출력이다.\n",
      "시험 출력이다.\n"
     ]
    }
   ],
   "source": [
    "numver1 = 0\n",
    "myCar1.upSpeed(30)\n",
    "myCar2.upSpeed(60)\n",
    "myCar2.printMessage()\n",
    "myCar3.printMessage()"
   ]
  },
  {
   "cell_type": "code",
   "execution_count": null,
   "id": "f08f0b70",
   "metadata": {},
   "outputs": [
    {
     "name": "stdout",
     "output_type": "stream",
     "text": [
      "getName __main__\n",
      "원의 반지름 :  10\n",
      "원의 넓이 :  314.16\n",
      "원의 둘레 :  62.83\n"
     ]
    }
   ],
   "source": [
    "import math\n",
    "class Circle:\n",
    "    __radius = 0\n",
    "\n",
    "    # 생성자\n",
    "    def __init__(self, radius):\n",
    "        self.__radius = radius\n",
    "\n",
    "    # getter(), setter() 제공\n",
    "    def getRadius(self):\n",
    "        return self.__radius\n",
    "    def setRadius(self, radius):\n",
    "        self.__radius = radius\n",
    "    \n",
    "    # 원의 넓이 구하는 메소드\n",
    "    def calcArea(self):\n",
    "        area = math.pi * self.__radius * self.__radius\n",
    "        return area\n",
    "    \n",
    "    # 원의 둘레 구하는 메소드\n",
    "    def calcCircum(self):\n",
    "        value = 2 * math.pi * self.__radius\n",
    "        return value\n",
    "\n",
    "def getName():\n",
    "    print(\"getName\",__name__)\n",
    "\n",
    "getName()\n",
    "# ->> 가져가서 쓸 때 위해서 -> if로 설정해둠\n",
    "# __ 던던\n",
    "if __name__ == \"__main__\" :\n",
    "    circle = Circle(10)\n",
    "    print(\"원의 반지름 : \", circle.getRadius())\n",
    "    print(\"원의 넓이 : \", round(circle.calcArea(),2))\n",
    "    print(\"원의 둘레 : \", round(circle.calcCircum(),2))\n"
   ]
  },
  {
   "cell_type": "code",
   "execution_count": 67,
   "id": "683a82b7",
   "metadata": {},
   "outputs": [
    {
     "name": "stdout",
     "output_type": "stream",
     "text": [
      "파랑 150 3\n"
     ]
    }
   ],
   "source": [
    "class Car:\n",
    "\tcolor = \"\"\n",
    "\tspeed = 0\n",
    "\tcount = 0\n",
    "\t## 매개변수 있는 생성자\n",
    "\tdef __init__(self, color, speed):\n",
    "\t\tself.color = color\n",
    "\t\tself.speed = speed\n",
    "\t\tCar.count += 1\n",
    "\t\t\n",
    "\t\t\n",
    "\tdef upSpeed(self, value) :\n",
    "\t\tself.speed += value\n",
    "\t\t\n",
    "\tdef downSpeed(self, value) :\n",
    "\t\tself.speed -= value\n",
    "\t\t\n",
    "\tdef printMessage(self):\n",
    "\t\tprint(f\"{self.color} {self.speed} {Car.count}\")\n",
    "\n",
    "myCar1 = Car(\"빨강\",50)\n",
    "myCar2 = Car(\"노랑\",100)\n",
    "myCar3 = Car(\"파랑\",150)\n",
    "\n",
    "myCar3.printMessage()"
   ]
  },
  {
   "cell_type": "code",
   "execution_count": 74,
   "id": "5f247811",
   "metadata": {},
   "outputs": [
    {
     "name": "stdout",
     "output_type": "stream",
     "text": [
      "안녕하세요\n",
      "False\n",
      "True\n"
     ]
    }
   ],
   "source": [
    "my_str = \"안녕하세요\"\n",
    "print(my_str)\n",
    "b = my_str.isdigit()\n",
    "print(b)\n",
    "\n",
    "my_int = 1\n",
    "c = my_int.is_integer()\n",
    "print(c)"
   ]
  },
  {
   "cell_type": "code",
   "execution_count": null,
   "id": "16a407a7",
   "metadata": {},
   "outputs": [
    {
     "name": "stdout",
     "output_type": "stream",
     "text": [
      "kind :  다이아몬드\n",
      "number :  10\n",
      "width :  100\n",
      "height :  250\n",
      "\n",
      "kind :  다이아몬드\n",
      "number :  10\n",
      "width :  100\n",
      "height :  250\n",
      "kind:다이아몬드\n",
      " number:10\n",
      " width:100\n",
      " height:250\n",
      "\n",
      "kind :  스페이드\n",
      "number :  11\n",
      "width :  100\n",
      "height :  250\n"
     ]
    }
   ],
   "source": [
    "class Card:\n",
    "    kind = \"\"\n",
    "    number = 0\n",
    "    width = 100 # 클래스 변수\n",
    "    height = 250 # 클래스 변수\n",
    "\n",
    "# 매개변수가 있는 생성자\n",
    "    def __init__(self,kind, number):\n",
    "        self.kind = kind\n",
    "        self.number = number\n",
    "\n",
    "\n",
    "    def __str__(self):\n",
    "        print(\"kind : \", self.kind)\n",
    "        print(\"number : \",self.number)\n",
    "        print(\"width : \", Card.width)\n",
    "        print(\"height : \", Card.height)\n",
    "        print(\"아래는 msg 리턴 내용\")\n",
    "        msg = f\"kind:{self.kind}\\n number:{self.number}\\n width:{Card.width}\\n height:{Card.height}\"\n",
    "        return msg\n",
    "\n",
    "\n",
    "\n",
    "if __name__ == \"__main__\":\n",
    "    card1 = Card(\"다이아몬드\", 10)\n",
    "    card1.__str__()\n",
    "    print()\n",
    "    print(card1)\n",
    "\n",
    "    print()\n",
    "    card2 = Card(\"스페이드\", 11)\n",
    "    card2.__str__()\n",
    "\n"
   ]
  }
 ],
 "metadata": {
  "kernelspec": {
   "display_name": "Python 3",
   "language": "python",
   "name": "python3"
  },
  "language_info": {
   "codemirror_mode": {
    "name": "ipython",
    "version": 3
   },
   "file_extension": ".py",
   "mimetype": "text/x-python",
   "name": "python",
   "nbconvert_exporter": "python",
   "pygments_lexer": "ipython3",
   "version": "3.13.5"
  }
 },
 "nbformat": 4,
 "nbformat_minor": 5
}
