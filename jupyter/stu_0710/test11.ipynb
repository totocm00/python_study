{
 "cells": [
  {
   "cell_type": "code",
   "execution_count": null,
   "id": "751a75b7",
   "metadata": {},
   "outputs": [
    {
     "data": {
      "text/plain": [
       "31.400000000000002"
      ]
     },
     "execution_count": 1,
     "metadata": {},
     "output_type": "execute_result"
    }
   ],
   "source": [
    "#1번 2 * 3.14 * r   ridius 반지름\n",
    "# form math import pi\n",
    "# 모듈은 math 인데 pi를 import 할거라는 의미\n",
    "# 모듈 지정해서 가지고 올 때\n",
    "# 위를 안하면 math.pi 라고 계속 해줘야함\n",
    "# 3.14 == pi\n",
    "def get_perl(radius):\n",
    "    radius = 5\n",
    "    return print(2*3.14*radius)\n",
    "get_perl(3)\n"
   ]
  },
  {
   "cell_type": "code",
   "execution_count": 3,
   "id": "e25fbdc0",
   "metadata": {},
   "outputs": [
    {
     "name": "stdout",
     "output_type": "stream",
     "text": [
      "6\n",
      "-4\n",
      "5\n",
      "0.2\n"
     ]
    }
   ],
   "source": [
    "def sum_1(input1, input2):\n",
    "    return input1 + input2\n",
    "\n",
    "def minu_1(input1, input2):\n",
    "    return input1 - input2\n",
    "\n",
    "def mul_1(input1, input2):\n",
    "    return input1 * input2\n",
    "\n",
    "def vag_1(input1, input2):\n",
    "    return input1 / input2\n",
    "\n",
    "input1, input2 = map(int, input(\"두 숫자 입력: (x y)\").split())\n",
    "print(sum_1(input1,input2))\n",
    "print(minu_1(input1,input2))\n",
    "print(mul_1(input1,input2))\n",
    "print(vag_1(input1,input2))"
   ]
  },
  {
   "cell_type": "code",
   "execution_count": 9,
   "id": "d72f3aed",
   "metadata": {},
   "outputs": [
    {
     "name": "stdout",
     "output_type": "stream",
     "text": [
      "8 -2 15 0.6\n"
     ]
    }
   ],
   "source": [
    "# 4개의 함수 호출\n",
    "# 두개의 입력을 받고 동시에 수행해서\n",
    "# 출력\n",
    "def calc():\n",
    "    a = sum_1(input1,input2)        \n",
    "    b = minu_1(input1,input2)\n",
    "    c = mul_1(input1,input2)\n",
    "    d = vag_1(input1,input2)\n",
    "    print(a,b,c,d)\n",
    "\n",
    "input3, input4 = map(int, input(\"두 숫자 입력: (x y)\").split())\n",
    "calc()"
   ]
  },
  {
   "cell_type": "code",
   "execution_count": null,
   "id": "741b6a3f",
   "metadata": {},
   "outputs": [
    {
     "name": "stdout",
     "output_type": "stream",
     "text": [
      "당신의 점수 92, 학점 A\n"
     ]
    }
   ],
   "source": [
    "def getGrade(score):\n",
    "    return (\"A\" if score >= 90 else \n",
    "            \"B\" if score >= 80 else \n",
    "            \"C\" if score >= 60 else \"F\")\n",
    "\n",
    "\n",
    "sco_ip = int(input(\"점수를 입력\"))\n",
    "result = getGrade(sco_ip)\n",
    "print(f\"당신의 점수 {sco_ip}, 학점 {result}\")"
   ]
  },
  {
   "cell_type": "code",
   "execution_count": null,
   "id": "c94e0a41",
   "metadata": {},
   "outputs": [
    {
     "name": "stdout",
     "output_type": "stream",
     "text": [
      "하나씩 포함 해야함\n"
     ]
    }
   ],
   "source": [
    "# 패스워드 검증 함수 checkPass(p)\n",
    "# 패스워드 적어도 8자 이상\n",
    "# 적어도 1글자의 대문자와 소문자, 숫자가 들어가야하고 알파벳 한정\n",
    "# 1글자 대문자,소문자,숫자\n",
    "# 알파벳으로 구성\n",
    "\n",
    "def checkPass(p):\n",
    "    if len(p) < 8:\n",
    "        return \"8자 이상 입력하세요\"\n",
    "    is_num = False\n",
    "    is_upper = False\n",
    "    is_lower = False\n",
    "\n",
    "    for ch in p:\n",
    "        if ch.isdigit():\n",
    "            is_num = True\n",
    "        if ch.isupper():\n",
    "            is_upper = True\n",
    "        if ch.islower():\n",
    "            is_lower = True\n",
    "\n",
    "    if is_num and is_upper and is_lower:\n",
    "        return \"모든 조건 만족\"\n",
    "    else:\n",
    "        return \"하나씩 포함 해야함\"\n",
    "input_p = input(\"패스워드 입력 8자 :\") \n",
    "msg = checkPass(input_p)\n",
    "print(msg)"
   ]
  }
 ],
 "metadata": {
  "kernelspec": {
   "display_name": "Python 3",
   "language": "python",
   "name": "python3"
  },
  "language_info": {
   "codemirror_mode": {
    "name": "ipython",
    "version": 3
   },
   "file_extension": ".py",
   "mimetype": "text/x-python",
   "name": "python",
   "nbconvert_exporter": "python",
   "pygments_lexer": "ipython3",
   "version": "3.13.5"
  }
 },
 "nbformat": 4,
 "nbformat_minor": 5
}
