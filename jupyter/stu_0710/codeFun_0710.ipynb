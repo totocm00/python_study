{
 "cells": [
  {
   "cell_type": "code",
   "execution_count": 1,
   "id": "98c107a2",
   "metadata": {},
   "outputs": [
    {
     "name": "stdout",
     "output_type": "stream",
     "text": [
      "안녕,  철수\n"
     ]
    }
   ],
   "source": [
    "def say_hello(name):\n",
    "    print(\"안녕, \", name)\n",
    "\n",
    "say_hello(\"철수\")"
   ]
  },
  {
   "cell_type": "code",
   "execution_count": 3,
   "id": "ce3e6f86",
   "metadata": {},
   "outputs": [
    {
     "name": "stdout",
     "output_type": "stream",
     "text": [
      "안녕,  철수 야 어서 집에 오너라\n"
     ]
    }
   ],
   "source": [
    "def say_hello(name, msg):\n",
    "    print(\"안녕, \", name, \"야\", msg)\n",
    "\n",
    "say_hello(\"철수\",\"어서 집에 오너라\")"
   ]
  },
  {
   "cell_type": "code",
   "execution_count": 5,
   "id": "21a7c75b",
   "metadata": {},
   "outputs": [
    {
     "name": "stdout",
     "output_type": "stream",
     "text": [
      "55\n"
     ]
    }
   ],
   "source": [
    "def get_sum(start, end):\n",
    "    sum = 0\n",
    "    for i in range(start, end + 1):\n",
    "        sum += i\n",
    "    return sum\n",
    "\n",
    "value = get_sum(1, 10)\n",
    "print(value)"
   ]
  },
  {
   "cell_type": "code",
   "execution_count": 21,
   "id": "0a81e641",
   "metadata": {},
   "outputs": [
    {
     "name": "stdout",
     "output_type": "stream",
     "text": [
      "120\n",
      "51\n"
     ]
    }
   ],
   "source": [
    "#Pr\n",
    "# 정수에 담긴 리스트 num_list\n",
    "# 리스트이 길이가\n",
    "# 11이상이면 모든 원소의 합을\n",
    "# 10이하이면 몯든 원소의 곱을 리턴하라\n",
    "\n",
    "def solution(num_list):\n",
    "    answer = 0\n",
    "    temp = 1\n",
    "    long_list = len(num_list)\n",
    "\n",
    "    for i in range(long_list):\n",
    "        if long_list <= 10:\n",
    "            temp *= num_list[i]\n",
    "        if long_list >= 11:\n",
    "            answer += num_list[i]\n",
    "    return temp if answer == 0 else answer\n",
    "b = [2,3,4,5]\n",
    "a = [3,4,5,2,5,4,6,7,3,7,2,2,1]\n",
    "print(solution(b))\n",
    "print(solution(a))"
   ]
  },
  {
   "cell_type": "code",
   "execution_count": null,
   "id": "a5a929c5",
   "metadata": {},
   "outputs": [],
   "source": [
    "# pr\n",
    "# 정수 배열 arr\n",
    "# arr의 각 원소\n",
    "# 값이 50보다 크거나 짝수   2로 나누고\n",
    "# 50보다 작은 홀수라면     2로 곱하고\n",
    "\n",
    "def solution(arr):\n",
    "    answer = []\n",
    "    for i in range(len(arr)):\n",
    "        \n",
    "\n",
    "    return answer"
   ]
  }
 ],
 "metadata": {
  "kernelspec": {
   "display_name": "Python 3",
   "language": "python",
   "name": "python3"
  },
  "language_info": {
   "codemirror_mode": {
    "name": "ipython",
    "version": 3
   },
   "file_extension": ".py",
   "mimetype": "text/x-python",
   "name": "python",
   "nbconvert_exporter": "python",
   "pygments_lexer": "ipython3",
   "version": "3.13.5"
  }
 },
 "nbformat": 4,
 "nbformat_minor": 5
}
