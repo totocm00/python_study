{
 "cells": [
  {
   "cell_type": "code",
   "execution_count": 1,
   "id": "f5ded6d7",
   "metadata": {},
   "outputs": [
    {
     "name": "stdout",
     "output_type": "stream",
     "text": [
      "[5, 7, 11, 13, 17, 19]\n"
     ]
    }
   ],
   "source": [
    "# 14\n",
    "# 2와 20 사이에 있는 모든 소수를 찾는 프로그램\n",
    "# (예제 7은 소수, 자신과 1만이 약수) 나누었을 때 몫이 0\n",
    "minority = []\n",
    "for i in range(2,21):\n",
    "    if i % i== 0:\n",
    "        if i % 2 != 0 and i % 3 != 0:\n",
    "            minority.append(i)\n",
    "print(minority)"
   ]
  },
  {
   "cell_type": "code",
   "execution_count": 22,
   "id": "454e7870",
   "metadata": {},
   "outputs": [
    {
     "name": "stdout",
     "output_type": "stream",
     "text": [
      " 입력 받은 수 99\n",
      " 1 / 3\n",
      " 입력 받은 수 99\n",
      " 3 / 5\n",
      " 입력 받은 수 99\n",
      " 5 / 7\n",
      " 입력 받은 수 99\n",
      " 7 / 9\n",
      " 입력 받은 수 99\n",
      " 9 / 11\n",
      " 입력 받은 수 99\n",
      " 11 / 13\n",
      " 입력 받은 수 99\n",
      " 13 / 15\n",
      " 입력 받은 수 99\n",
      " 15 / 17\n",
      " 입력 받은 수 99\n",
      " 17 / 19\n",
      " 입력 받은 수 99\n",
      " 19 / 21\n",
      " 입력 받은 수 99\n",
      " 21 / 23\n",
      " 입력 받은 수 99\n",
      " 23 / 25\n",
      " 입력 받은 수 99\n",
      " 25 / 27\n",
      " 입력 받은 수 99\n",
      " 27 / 29\n",
      " 입력 받은 수 99\n",
      " 29 / 31\n",
      " 입력 받은 수 99\n",
      " 31 / 33\n",
      " 입력 받은 수 99\n",
      " 33 / 35\n",
      " 입력 받은 수 99\n",
      " 35 / 37\n",
      " 입력 받은 수 99\n",
      " 37 / 39\n",
      " 입력 받은 수 99\n",
      " 39 / 41\n",
      " 입력 받은 수 99\n",
      " 41 / 43\n",
      " 입력 받은 수 99\n",
      " 43 / 45\n",
      " 입력 받은 수 99\n",
      " 45 / 47\n",
      " 입력 받은 수 99\n",
      " 47 / 49\n",
      " 입력 받은 수 99\n",
      " 49 / 51\n",
      " 입력 받은 수 99\n",
      " 51 / 53\n",
      " 입력 받은 수 99\n",
      " 53 / 55\n",
      " 입력 받은 수 99\n",
      " 55 / 57\n",
      " 입력 받은 수 99\n",
      " 57 / 59\n",
      " 입력 받은 수 99\n",
      " 59 / 61\n",
      " 입력 받은 수 99\n",
      " 61 / 63\n",
      " 입력 받은 수 99\n",
      " 63 / 65\n",
      " 입력 받은 수 99\n",
      " 65 / 67\n",
      " 입력 받은 수 99\n",
      " 67 / 69\n",
      " 입력 받은 수 99\n",
      " 69 / 71\n",
      " 입력 받은 수 99\n",
      " 71 / 73\n",
      " 입력 받은 수 99\n",
      " 73 / 75\n",
      " 입력 받은 수 99\n",
      " 75 / 77\n",
      " 입력 받은 수 99\n",
      " 77 / 79\n",
      " 입력 받은 수 99\n",
      " 79 / 81\n",
      " 입력 받은 수 99\n",
      " 81 / 83\n",
      " 입력 받은 수 99\n",
      " 83 / 85\n",
      " 입력 받은 수 99\n",
      " 85 / 87\n",
      " 입력 받은 수 99\n",
      " 87 / 89\n",
      " 입력 받은 수 99\n",
      " 89 / 91\n",
      " 입력 받은 수 99\n",
      " 91 / 93\n",
      " 입력 받은 수 99\n",
      " 93 / 95\n",
      " 입력 받은 수 99\n",
      " 95 / 97\n",
      " 입력 받은 수 99\n",
      " 97 / 99\n",
      " 입력 받은 수 99\n",
      " 99 / 101\n",
      "앞의 수 합 99\n",
      "뒤의 수의 합 101\n",
      "분수의 총 합은 46.10\n"
     ]
    }
   ],
   "source": [
    "# 15\n",
    "# 다음 수열의 합을 계산\n",
    "# 1/3 + 3/5 + 5/7 .... 99/101\n",
    "origin_ip = int(input())\n",
    "\n",
    "capy_i = 0\n",
    "capy_two_gap = 0\n",
    "capy_division_plus = 0\n",
    "for i in range(1,origin_ip+1,2):\n",
    "    capy_i = i\n",
    "    capy_two_gap = i+2\n",
    "\n",
    "    capy_division_plus += capy_i / capy_two_gap\n",
    "\n",
    "    print(f\" 입력 받은 수 {origin_ip}\")\n",
    "    print(f\" {capy_i} / {capy_two_gap}\")\n",
    "print(f\"앞의 수 합 {capy_i}\")\n",
    "print(f\"뒤의 수의 합 {capy_two_gap}\")\n",
    "print(f\"분수의 총 합은 {capy_division_plus:.2f}\")"
   ]
  },
  {
   "cell_type": "code",
   "execution_count": null,
   "id": "0fc5e7c6",
   "metadata": {},
   "outputs": [
    {
     "name": "stdout",
     "output_type": "stream",
     "text": [
      "FizzBuzz\n",
      "Fizz\n",
      "Buzz\n",
      "Fizz\n",
      "Fizz\n"
     ]
    }
   ],
   "source": [
    "# 17\n",
    "# 0~9까지 정수 반복\n",
    "# 특정숫자가 3으로 나눠 떨어지면 \"Fizz\" 출력\n",
    "# 5로 나눠 떨어지면 \"Buzz\" 출력\n",
    "# 3과 5로 나눠 떨어지면\n",
    "\n",
    "def output_F_B(num):\n",
    "    temp = \"\"\n",
    "    for i in range(10):\n",
    "        if i % 3 == 0:\n",
    "            temp += \"Fizz\"\n",
    "        if i % 5 == 0:\n",
    "            temp += \"Buzz\"\n",
    "        print(temp.strip() if temp else \"*\")\n",
    "\n",
    "for i in range(10):\n",
    "    temp = \"\"\n",
    "    if i % 3 == 0:\n",
    "        temp += \"Fizz\"\n",
    "    if i % 5 == 0:\n",
    "        temp += \"Buzz\"\n",
    "    print(temp.strip()) if temp else \"*\"\n"
   ]
  },
  {
   "cell_type": "code",
   "execution_count": null,
   "id": "13c13cce",
   "metadata": {},
   "outputs": [
    {
     "name": "stdout",
     "output_type": "stream",
     "text": [
      "1 3 5 7 15 21 35 105 "
     ]
    }
   ],
   "source": [
    "num = int(input())\n",
    "for i in range(1,num+1):\n",
    "    if num%i == 0:\n",
    "        print(i,end=\" \")"
   ]
  },
  {
   "cell_type": "code",
   "execution_count": 25,
   "id": "a22a7c7a",
   "metadata": {},
   "outputs": [
    {
     "name": "stdout",
     "output_type": "stream",
     "text": [
      "0,1,1,2,3,5\n"
     ]
    }
   ],
   "source": [
    "num = int(input())\n",
    "element1 = 0\n",
    "element2 = 0\n",
    "\n",
    "for i in range(num + 1):\n",
    "    if i<2:\n",
    "        element2 = element1\n",
    "        element1 = i\n",
    "        sum = element1 + element2\n",
    "    else:\n",
    "        sum = element1 + element2\n",
    "        element2 = element1\n",
    "        element1 = sum\n",
    "    \n",
    "    if i!=num:\n",
    "        print(sum,end=\",\")\n",
    "    else:\n",
    "        print(sum)"
   ]
  },
  {
   "cell_type": "code",
   "execution_count": 26,
   "id": "4f19e855",
   "metadata": {},
   "outputs": [
    {
     "name": "stdout",
     "output_type": "stream",
     "text": [
      "피보나치 수열:\n",
      "0 1 1 2 3 5 "
     ]
    }
   ],
   "source": [
    "n = int(input(\"피보나치 수열을 몇 번째(n)까지 출력할까요? \"))\n",
    "\n",
    "# 초기 피보나치 수열 정의\n",
    "f0 = 0\n",
    "f1 = 1\n",
    "\n",
    "# 출력 시작\n",
    "print(\"피보나치 수열:\")\n",
    "\n",
    "for i in range(n + 1):  # 0부터 n까지 포함되도록 n+1\n",
    "    if i == 0:\n",
    "        print(f0, end=' ')\n",
    "    elif i == 1:\n",
    "        print(f1, end=' ')\n",
    "    else:\n",
    "        fn = f0 + f1\n",
    "        print(fn, end=' ')\n",
    "        f0 = f1  # 이전 값 업데이트\n",
    "        f1 = fn  # 현재 값 업데이트"
   ]
  },
  {
   "cell_type": "code",
   "execution_count": 27,
   "id": "cc660dc7",
   "metadata": {},
   "outputs": [
    {
     "name": "stdout",
     "output_type": "stream",
     "text": [
      "2 3 5 7 11 13 17 19 "
     ]
    }
   ],
   "source": [
    "maxNum = 20\n",
    "number = 2\n",
    "count = 0\n",
    "\n",
    "# divisor 약수\n",
    "# prime 소수\n",
    "# while 문 안에 while문을 쓰는 것은 위험함\n",
    "# 계속 반복해서 프로그램이 죽어버릴 수 있음\n",
    "while number < maxNum:\n",
    "    divisor = 2\n",
    "    prime = True\n",
    "\n",
    "    while divisor < number:\n",
    "        if number % divisor == 0:\n",
    "            prime = False\n",
    "            break\n",
    "        divisor +=1\n",
    "    if prime:\n",
    "        count+=1\n",
    "        print(number,end=\" \")\n",
    "    number += 1\n",
    "\n",
    "# while문 -> for문"
   ]
  }
 ],
 "metadata": {
  "kernelspec": {
   "display_name": "Python 3",
   "language": "python",
   "name": "python3"
  },
  "language_info": {
   "codemirror_mode": {
    "name": "ipython",
    "version": 3
   },
   "file_extension": ".py",
   "mimetype": "text/x-python",
   "name": "python",
   "nbconvert_exporter": "python",
   "pygments_lexer": "ipython3",
   "version": "3.13.5"
  }
 },
 "nbformat": 4,
 "nbformat_minor": 5
}
