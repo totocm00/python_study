{
 "cells": [
  {
   "cell_type": "code",
   "execution_count": 6,
   "id": "957e249c",
   "metadata": {},
   "outputs": [
    {
     "name": "stdout",
     "output_type": "stream",
     "text": [
      "[1, 2, 3, 4, 5, 6, 7, 8, 9, 10]\n",
      "[1, 2, 3, 4, 5]\n",
      "[6, 7, 8, 9, 10]\n",
      "[1, 2, 3, 4, 5]\n",
      "10\n"
     ]
    }
   ],
   "source": [
    "scores = [1,2,3,4,5,6,7,8,9,10]\n",
    "\n",
    "print(scores)\n",
    "print(scores[0:5])\n",
    "print(scores[5:])\n",
    "print(scores[:5])\n",
    "print(scores[-1])"
   ]
  },
  {
   "cell_type": "code",
   "execution_count": 10,
   "id": "d566d2c3",
   "metadata": {},
   "outputs": [
    {
     "name": "stdout",
     "output_type": "stream",
     "text": [
      "[1, 10]\n",
      "<class 'list'>\n",
      "<class 'int'>\n"
     ]
    }
   ],
   "source": [
    "scores = []\n",
    "for i in range(2):\n",
    "    scores.append(int(input(\"성적을 입력: \")))\n",
    "print(scores)\n",
    "\n",
    "print(type(scores))\n",
    "print(type(scores[0]))"
   ]
  },
  {
   "cell_type": "code",
   "execution_count": 3,
   "id": "a25ef17f",
   "metadata": {},
   "outputs": [
    {
     "name": "stdout",
     "output_type": "stream",
     "text": [
      "[]\n",
      "['H', 'e', 'l', 'l', 'o']\n",
      "[0, 1, 2, 3, 4]\n",
      "H\n",
      "e\n"
     ]
    }
   ],
   "source": [
    "a = list()\n",
    "b = list(\"Hello\")\n",
    "c = list(range(0, 5))\n",
    "print(a)\n",
    "print(b)\n",
    "print(c)\n",
    "print(b[0])\n",
    "print(b[1])"
   ]
  },
  {
   "cell_type": "code",
   "execution_count": 5,
   "id": "0663ed41",
   "metadata": {},
   "outputs": [
    {
     "name": "stdout",
     "output_type": "stream",
     "text": [
      "[10, 20, 99, 40, 50]\n",
      "[10, 20, 99, 40, 50]\n"
     ]
    }
   ],
   "source": [
    "scores = [ 10, 20, 30, 40, 50]\n",
    "#values = scores[:]\n",
    "values = scores\n",
    "values[2] = 99\n",
    "print(scores)\n",
    "print(values)"
   ]
  },
  {
   "cell_type": "code",
   "execution_count": null,
   "id": "b41ab92e",
   "metadata": {},
   "outputs": [],
   "source": []
  }
 ],
 "metadata": {
  "kernelspec": {
   "display_name": "Python 3",
   "language": "python",
   "name": "python3"
  },
  "language_info": {
   "codemirror_mode": {
    "name": "ipython",
    "version": 3
   },
   "file_extension": ".py",
   "mimetype": "text/x-python",
   "name": "python",
   "nbconvert_exporter": "python",
   "pygments_lexer": "ipython3",
   "version": "3.13.5"
  }
 },
 "nbformat": 4,
 "nbformat_minor": 5
}
