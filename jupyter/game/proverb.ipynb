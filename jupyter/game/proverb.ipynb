{
 "cells": [
  {
   "cell_type": "code",
   "execution_count": null,
   "id": "6e165482",
   "metadata": {},
   "outputs": [
    {
     "name": "stdout",
     "output_type": "stream",
     "text": [
      "문제 :꼬리가 길면\n",
      "1.밟힌다, 2. 돼지에\n",
      "정답입니다\n"
     ]
    }
   ],
   "source": [
    "# 속담\n",
    "\n",
    "import random\n",
    "# 속담의 앞/뒷 부분만 보여주고, 사용자가 맞추는 게임\n",
    "# ex) 가는 말이 고와야 _ _ _ -> 오는 말이 곱다\n",
    "# 게임은 5회 진행되고, 이후 맞춘 개수를 출력\n",
    "\n",
    "# 순서도 시작->랜덤문장출력->사용자 입력->정답비교 -> 게임시도 ->결과출력\n",
    "#               (위)ㄴ ============== ------------ㅣ(아래)\n",
    "\n",
    "proverbs = [\n",
    "    [\"굴러온 돌이\",\"박힌 돌 뺀다\"],\n",
    "    [\"긁어\",\"부스럼\"],\n",
    "    [\"돼지에\",\"진주 목걸이\"],\n",
    "    [\"꼬리가 길면\",\"밟힌다\"],\n",
    "    [\"돌다리도\",\"두들겨 보고 건너라\"],\n",
    "    [\"마른하늘에\",\"날벼락\"]\n",
    "]\n",
    "# print(proverbs) # [['굴러온 돌이', '박힌 돌 뺀다'], ['긁어', '부스럼'], ['돼 ..\n",
    "# print(proverbs[0]) # ['굴러온 돌이', '박힌 돌 뺀다']\n",
    "# print(proverbs[0][0]) # 굴러온 돌이\n",
    "# print(proverbs[0][1]) # 박힌 돌 뺀다\n",
    "\n",
    "quiz = random.choice(proverbs)\n",
    "front, back = quiz\n",
    "\n",
    "\n",
    "while True:\n",
    "    lie1, lie2 = random.choice(proverbs)\n",
    "    if front != lie1:\n",
    "        break\n",
    "\n",
    "# print(front) # 돌다리도\n",
    "# print(back) # 두들겨 보고 건너라\n",
    "front_or_back = random.choice(quiz)\n",
    "\n",
    "print(f\"문제 :{front_or_back}\") # 앞,뒤 하나를 출력\n",
    "\n",
    "if front_or_back == front:\n",
    "    front = back\n",
    "\n",
    "list_a = [front,lie1]\n",
    "random.shuffle(list_a)\n",
    "\n",
    "print(f\"1.{list_a[0]}  2.{list_a[1]}\")\n",
    "user_input = int(input(\"이어질 속담을 선택하세요: 1, 2 \"))\n",
    "\n",
    "result = \"\"\n",
    "if user_input == 1:\n",
    "    result = list_a[0]\n",
    "else:\n",
    "    result = list_a[1]\n",
    "\n",
    "if result == front or result == back:\n",
    "    print(\"정답입니다\")\n",
    "else:\n",
    "    print(\"틀렸습니다\")"
   ]
  },
  {
   "cell_type": "code",
   "execution_count": 9,
   "id": "e56bb059",
   "metadata": {},
   "outputs": [
    {
     "name": "stdout",
     "output_type": "stream",
     "text": [
      "['굴러온 돌이', '박힌 돌 뺀다']\n",
      "굴러온 돌이\n",
      "박힌 돌 뺀다\n",
      "굴러온 돌이\n",
      "박힌 돌 뺀다\n"
     ]
    }
   ],
   "source": [
    "quiz = random.choice(proverbs)\n",
    "front, back = quiz\n",
    "\n",
    "\n",
    "print(quiz)\n",
    "print(quiz[0])\n",
    "print(quiz[1])\n",
    "\n",
    "print(front)\n",
    "print(back)\n"
   ]
  }
 ],
 "metadata": {
  "kernelspec": {
   "display_name": "Python 3",
   "language": "python",
   "name": "python3"
  },
  "language_info": {
   "codemirror_mode": {
    "name": "ipython",
    "version": 3
   },
   "file_extension": ".py",
   "mimetype": "text/x-python",
   "name": "python",
   "nbconvert_exporter": "python",
   "pygments_lexer": "ipython3",
   "version": "3.13.5"
  }
 },
 "nbformat": 4,
 "nbformat_minor": 5
}
