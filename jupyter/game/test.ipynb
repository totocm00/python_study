{
 "cells": [
  {
   "cell_type": "code",
   "execution_count": 22,
   "id": "fe2eac33",
   "metadata": {},
   "outputs": [
    {
     "name": "stdout",
     "output_type": "stream",
     "text": [
      "우리 같이 걸을래\n",
      "100.0\n",
      "21.52693137327593\n"
     ]
    }
   ],
   "source": [
    "import random\n",
    "import time\n",
    "\n",
    "def loop_typed():\n",
    "    typed = input(\"입력\")\n",
    "    return typed\n",
    "\n",
    "def check_100(correct,over_minu,len_tar):\n",
    "    accuracy = (correct-over_minu) / len_tar * 100\n",
    "    return accuracy\n",
    "\n",
    "def len_tar_len_type(target,typed,elapsed):\n",
    "    correct = 0\n",
    "    over_minu = 0\n",
    "    len_tar = len(target)\n",
    "    len_type = len(typed)\n",
    "\n",
    "    if len_tar < len_type:\n",
    "        over_minu = abs(len_tar - len_type)\n",
    "\n",
    "    for i in range(min(len_tar,len_type)):\n",
    "        if target[i] == typed[i]:\n",
    "            correct +=1\n",
    "    \n",
    "    accuracy = check_100(correct,over_minu,len_tar)\n",
    "    speed = (len_type-over_minu) / elapsed * 60\n",
    "\n",
    "    return len_tar, len_type, accuracy, speed\n",
    "\n",
    "sentences = [\n",
    "    \"시원한 아이스크림 들고서\",\n",
    "    \"우리 같이 걸을래\",\n",
    "    \"자전거로 한강에 갈래\"\n",
    "]\n",
    "target = random.choice(sentences)\n",
    "print(f\"{target}\")\n",
    "\n",
    "start_time = time.time()\n",
    "typed = loop_typed()\n",
    "\n",
    "end_time = time.time()\n",
    "elapsed = end_time - start_time\n",
    "\n",
    "len_tar, len_type, accuracy, speed = len_tar_len_type(target,typed,elapsed)\n",
    "\n",
    "while True:\n",
    "    typed = loop_typed()\n",
    "    end_time = time.time()\n",
    "    elapsed = end_time - start_time\n",
    "\n",
    "    break_point = False\n",
    "    len_tar, len_type, accuracy, speed = len_tar_len_type(target, typed, elapsed)\n",
    "\n",
    "    if accuracy == 100:\n",
    "        break\n",
    "\n",
    "print(accuracy)\n",
    "print(speed)"
   ]
  },
  {
   "cell_type": "code",
   "execution_count": null,
   "id": "a574985b",
   "metadata": {},
   "outputs": [],
   "source": []
  }
 ],
 "metadata": {
  "kernelspec": {
   "display_name": "Python 3",
   "language": "python",
   "name": "python3"
  },
  "language_info": {
   "codemirror_mode": {
    "name": "ipython",
    "version": 3
   },
   "file_extension": ".py",
   "mimetype": "text/x-python",
   "name": "python",
   "nbconvert_exporter": "python",
   "pygments_lexer": "ipython3",
   "version": "3.13.5"
  }
 },
 "nbformat": 4,
 "nbformat_minor": 5
}
