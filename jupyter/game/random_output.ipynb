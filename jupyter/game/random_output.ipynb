{
 "cells": [
  {
   "cell_type": "code",
   "execution_count": null,
   "id": "8ab0428a",
   "metadata": {},
   "outputs": [
    {
     "name": "stdout",
     "output_type": "stream",
     "text": [
      "네모난 조간신문 본 뒤\n"
     ]
    }
   ],
   "source": [
    "# 메시지를 추가하고 랜덤한 메시지를 출력하는 부분\n",
    "\n",
    "import random\n",
    "\n",
    "# random.random() -> 난수 생성\n",
    "# random.randrange(1,7) -> 1이상 7미만의 난수\n",
    "\n",
    "# abc = ['a','b','c','d','e']\n",
    "# random.shuffle(abc)\n",
    "# -> ['c', 'b', 'a', 'e', 'd']\n",
    "# random.choice(abc)\n",
    "# -> 'd'\n",
    "\n",
    "msg1 = \"네모난 침대에서 일어나 눈을 떠 보면\"\n",
    "msg2 = \"네모난 창문으로 보이는 똑같은 풍경\"\n",
    "msg3 = \"네모난 문을 열고 네모난 테이블에 앉아\"\n",
    "msg4 = \"네모난 조간신문 본 뒤\"\n",
    "msg5 = \"네모난 책가방에 네모난 책들을 넣고 네모난 버스를 타고\"\n",
    "msg6 = \"네모난 건물 지나 네모난 학교에 들어서면 또\"\n",
    "msg7 = \"네모난 교실 네모난 칠판과 책상들 네모난 오디오\"\n",
    "msg8 = \"네모난 컴퓨터 TV 네모난 달력에 그려진 똑같은 하루를\"\n",
    "msg9 = \"의식도 못한 채로 그냥 숨만 쉬고 있는걸\"\n",
    "msg10 = \"주위를 둘러보면 모두 네모난 것들뿐인데\"\n",
    "\n",
    "msg_list = []\n",
    "for i in range(1,11):\n",
    "    msg_list.append(globals()[\"msg\" + str(i)])\n",
    "# print(msg_list[2])\n",
    "\n",
    "msg = random.choice(msg_list)\n",
    "print(msg)"
   ]
  },
  {
   "cell_type": "code",
   "execution_count": 51,
   "id": "ceebc0a2",
   "metadata": {},
   "outputs": [
    {
     "name": "stdout",
     "output_type": "stream",
     "text": [
      "1분 타임어택 시작!\n",
      "타임어택 종료!\n"
     ]
    },
    {
     "data": {
      "text/plain": [
       "'Thu Jul 10 16:15:46 2025'"
      ]
     },
     "execution_count": 51,
     "metadata": {},
     "output_type": "execute_result"
    }
   ],
   "source": [
    "import time\n",
    "\n",
    "# 시작하고 끝나는 것\n",
    "\n",
    "start = time.time() # 시작시간\n",
    "timeout = 1 # 60초 = 1분\n",
    "print(\"1분 타임어택 시작!\")\n",
    "\n",
    "while time.time() - start < timeout:\n",
    "    pass\n",
    "print(\"타임어택 종료!\")\n",
    "\n",
    "# for i in range(100000000):\n",
    "#     pass # 이 동안에 시간을 계산\n",
    "# end = time.time()\n",
    "# print(f\"{end - start:.6f}\")\n",
    "\n",
    "####\n",
    "# 타입모듈 수업 내용\n",
    "# time.time() 현재 시간을 가지고 옴\n",
    "time.localtime(time.time()) #-> 가독성있게 나옴\n",
    "#time.struct_time(tm_year=2025, tm_mon=7,\n",
    "#  tm_mday=10, tm_hour=16, tm_min=5, \n",
    "# tm_sec=0, tm_wday=3, tm_yday=191, tm_isdst=0)\n",
    "\n",
    "lt = time.localtime(time.time())\n",
    "time.asctime(lt)\n",
    "# 'Thu Jul 10 16:06:12 2025'"
   ]
  },
  {
   "cell_type": "code",
   "execution_count": null,
   "id": "4b4647fd",
   "metadata": {},
   "outputs": [
    {
     "data": {
      "text/plain": [
       "'Thu Jul 10 16:17:30 2025'"
      ]
     },
     "execution_count": 58,
     "metadata": {},
     "output_type": "execute_result"
    }
   ],
   "source": [
    "st = time.time()\n",
    "et = time.time()\n",
    "\n",
    "# lt = time.localtime(time.time())\n",
    "# time.asctime(lt)\n",
    "stt = time.localtime(st)\n",
    "ett = time.localtime(et)\n",
    "\n",
    "time.asctime(stt)\n",
    "time.asctime(ett)\n",
    "\n",
    "lt = time.localtime(time.time())\n",
    "time.asctime(lt)\n"
   ]
  },
  {
   "cell_type": "code",
   "execution_count": 70,
   "id": "8fb93830",
   "metadata": {},
   "outputs": [
    {
     "name": "stdout",
     "output_type": "stream",
     "text": [
      "네모난 책가방에 네모난 책들을 넣고 네모난 버스를 타고\n",
      "\n",
      "🟢 정확도: 100.00%\n",
      "⌛ 걸린 시간: 8.32초\n",
      "⌨️ 분당 타자 수 (CPM): 216.29\n",
      "❌ 틀린 글자 수: 0\n"
     ]
    }
   ],
   "source": [
    "# 사용자의 입력을 받는 부분\n",
    "# for i in 범주(질문 문장의 길이, 입력한 문장의 길이)):\n",
    "# if 질문 문장 단어 == 입력문장 단어:\n",
    "#   correct += 1 \n",
    "\n",
    "msg = random.choice(msg_list)\n",
    "print(msg)\n",
    "\n",
    "start_t = time.time() # 시작시간\n",
    "\n",
    "typed = input(\"\\n입력: \")\n",
    "\n",
    "correct = 0  # 틀린것\n",
    "for i in range(min(len(msg),len(typed))):\n",
    "    if msg[i] == typed[i]:\n",
    "        correct += 1\n",
    "\n",
    "end_t = time.time()\n",
    "use_time = end_t - start_t\n",
    "\n",
    "accuracy = correct / len(msg) * 100\n",
    "cpm = len(typed) / use_time * 60 # 분당 타자 수 (CPM) # elapsed\n",
    "wrong = len(msg) - correct\n",
    "\n",
    "print(f\"\\n🟢 정확도: {accuracy:.2f}%\")\n",
    "print(f\"⌛ 걸린 시간: {use_time:.2f}초\")\n",
    "print(f\"⌨️ 분당 타자 수 (CPM): {cpm:.2f}\")\n",
    "print(f\"❌ 틀린 글자 수: {wrong}\")\n"
   ]
  },
  {
   "cell_type": "code",
   "execution_count": null,
   "id": "84e5f7f3",
   "metadata": {},
   "outputs": [],
   "source": [
    "# 정확도를 계산하는 부분"
   ]
  }
 ],
 "metadata": {
  "kernelspec": {
   "display_name": "Python 3",
   "language": "python",
   "name": "python3"
  },
  "language_info": {
   "codemirror_mode": {
    "name": "ipython",
    "version": 3
   },
   "file_extension": ".py",
   "mimetype": "text/x-python",
   "name": "python",
   "nbconvert_exporter": "python",
   "pygments_lexer": "ipython3",
   "version": "3.13.5"
  }
 },
 "nbformat": 4,
 "nbformat_minor": 5
}
