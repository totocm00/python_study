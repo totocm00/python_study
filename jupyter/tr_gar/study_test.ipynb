{
 "cells": [
  {
   "cell_type": "code",
   "execution_count": 2,
   "id": "ed669a02",
   "metadata": {},
   "outputs": [
    {
     "name": "stdout",
     "output_type": "stream",
     "text": [
      "2\n",
      "3\n",
      "4\n"
     ]
    }
   ],
   "source": [
    "x =2\n",
    "for y in range(3):\n",
    "    print(y+x)"
   ]
  },
  {
   "cell_type": "code",
   "execution_count": null,
   "id": "35840335",
   "metadata": {},
   "outputs": [
    {
     "name": "stdout",
     "output_type": "stream",
     "text": [
      "2\n",
      "2\n",
      "2\n"
     ]
    }
   ],
   "source": [
    "for x in range(3):\n",
    "    print(x)"
   ]
  },
  {
   "cell_type": "code",
   "execution_count": 14,
   "id": "e1304ea7",
   "metadata": {},
   "outputs": [
    {
     "name": "stdout",
     "output_type": "stream",
     "text": [
      "장미 가시 튜울립 None 해바라기 <class 'str'>\n"
     ]
    }
   ],
   "source": [
    "for x in [\"장미 \" \"가시\",\"튜울립\",None,\"해바라기\"]:\n",
    "    print(x, end=\" \")\n",
    "\n",
    "print(type(x))"
   ]
  },
  {
   "cell_type": "code",
   "execution_count": 18,
   "id": "3c914ca7",
   "metadata": {},
   "outputs": [
    {
     "name": "stdout",
     "output_type": "stream",
     "text": [
      "0 v1 v2 v3 v4 v5 v6 v7 v8 v9 v<class 'int'>\n"
     ]
    }
   ],
   "source": [
    "for x in range(0,10):\n",
    "    print(x, end= \" v\")\n",
    "print(type(x))"
   ]
  },
  {
   "cell_type": "code",
   "execution_count": 28,
   "id": "169d0f6f",
   "metadata": {},
   "outputs": [
    {
     "name": "stdout",
     "output_type": "stream",
     "text": [
      "현재 확인 중인 과일: apple\n",
      "현재 확인 중인 과일: banan\n",
      "찾는 과일 'orange' 을(를) 찾았습니다! \n",
      "탐색을 완료했습니다\n"
     ]
    }
   ],
   "source": [
    "fruits = [\"apple\", \"banan\", \"orange\", \"grape\", \"kiwi\"]\n",
    "search_fruit = \"orange\"\n",
    "\n",
    "for fruit in fruits:\n",
    "    if fruit == search_fruit:\n",
    "        print(f\"찾는 과일 '{search_fruit}' 을(를) 찾았습니다! \")\n",
    "        break # \"orange\" 를 찾았으니 루프를 즉시 종료\n",
    "    print(f\"현재 확인 중인 과일: {fruit}\")\n",
    "print(\"탐색을 완료했습니다\")"
   ]
  },
  {
   "cell_type": "code",
   "execution_count": 35,
   "id": "2906220d",
   "metadata": {},
   "outputs": [
    {
     "name": "stdout",
     "output_type": "stream",
     "text": [
      "종료하려면 음수값을 입력하세요.\n"
     ]
    }
   ],
   "source": [
    "score = 0\n",
    "total_sum = 0\n",
    "c = 0\n",
    "print(\"종료하려면 음수값을 입력하세요.\")\n",
    "\n",
    "while score >= 0:\n",
    "    score = int(input(\"정수를 입력하세요: \"))\n",
    "    if score > 0:\n",
    "        total_sum += score\n",
    "        c += 1\n",
    "if c > 0:\n",
    "    average = total_sum / c\n",
    "    print(\"평균 점수는\", average, \"입니다\")"
   ]
  },
  {
   "cell_type": "code",
   "execution_count": 2,
   "id": "02847302",
   "metadata": {},
   "outputs": [
    {
     "name": "stdout",
     "output_type": "stream",
     "text": [
      "\n",
      "* * * \n",
      "* * * \n",
      "* * * \n"
     ]
    }
   ],
   "source": [
    "\n",
    "# def multiple (num):\n",
    "#     for i in range(num):\n",
    "#         print(\"\\n\")\n",
    "#         for j in range(num):\n",
    "#             print(\"*\",end=\" \")\n",
    "\n",
    "# try:\n",
    "#     while 1:\n",
    "#         try:\n",
    "#             user_input = int(input(\"정수를 입력: \"))\n",
    "#             if isinstance(user_input,int):\n",
    "#                 print(multiple(user_input))\n",
    "#                 break\n",
    "#         except ValueError:\n",
    "#             print(\"에러\")\n",
    "        \n",
    "# except ValueError:\n",
    "#     print(\"정수를 입력하세요.\")\n",
    "\n",
    "# ------------------------------------\n",
    "\n",
    "def multiple(num):\n",
    "    for _ in range(num):\n",
    "        print()  # 줄 바꿈\n",
    "        for _ in range(num):\n",
    "            print(\"*\", end=\" \")\n",
    "    print()  # 마지막 줄 바꿈\n",
    "\n",
    "while True:\n",
    "    user_input = input(\"정수를 입력: \")\n",
    "    try:\n",
    "        number = int(user_input)\n",
    "        multiple(number)\n",
    "        break\n",
    "    except ValueError:\n",
    "        print(\"정수를 입력하세요.\")\n"
   ]
  },
  {
   "cell_type": "code",
   "execution_count": 1,
   "id": "27e0c18c",
   "metadata": {},
   "outputs": [
    {
     "name": "stdout",
     "output_type": "stream",
     "text": [
      "* \n",
      "* * \n",
      "* * * \n",
      "* * * * \n",
      "* * * * * \n"
     ]
    }
   ],
   "source": [
    "input_x = int(input())\n",
    "for i in range(1,input_x+1):\n",
    "    for _ in range(i):\n",
    "        print(\"*\",end=\" \")\n",
    "    print()"
   ]
  },
  {
   "cell_type": "code",
   "execution_count": 5,
   "id": "4c0f6b85",
   "metadata": {},
   "outputs": [
    {
     "name": "stdout",
     "output_type": "stream",
     "text": [
      "\n",
      "*\n",
      "**\n",
      "***\n",
      "****\n",
      "*****\n"
     ]
    }
   ],
   "source": [
    "num = int(input())\n",
    "for i in range(num+1):\n",
    "    for j in range(1,num+1):\n",
    "        if j<=i:\n",
    "            print(\"*\",end=\"\")\n",
    "    print()"
   ]
  }
 ],
 "metadata": {
  "kernelspec": {
   "display_name": "Python 3",
   "language": "python",
   "name": "python3"
  },
  "language_info": {
   "codemirror_mode": {
    "name": "ipython",
    "version": 3
   },
   "file_extension": ".py",
   "mimetype": "text/x-python",
   "name": "python",
   "nbconvert_exporter": "python",
   "pygments_lexer": "ipython3",
   "version": "3.13.5"
  }
 },
 "nbformat": 4,
 "nbformat_minor": 5
}
