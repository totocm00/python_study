{
 "cells": [
  {
   "cell_type": "code",
   "execution_count": 2,
   "id": "338748d5",
   "metadata": {},
   "outputs": [
    {
     "name": "stdout",
     "output_type": "stream",
     "text": [
      "2 4 6 8 10 12 14 16 18 20 22 24 26 28 30 32 34 36 38 40 42 44 46 48 50 "
     ]
    }
   ],
   "source": [
    "# 1\n",
    "for i in range(2,51):\n",
    "    if i % 2 == 0:\n",
    "        print(i,end=\" \")"
   ]
  },
  {
   "cell_type": "code",
   "execution_count": 4,
   "id": "4095edae",
   "metadata": {},
   "outputs": [
    {
     "name": "stdout",
     "output_type": "stream",
     "text": [
      "364\n"
     ]
    }
   ],
   "source": [
    "# 2\n",
    "myList = [11, 22, 23, 99, 81, 93, 35]\n",
    "answer = 0\n",
    "for i in range(len(myList)):\n",
    "    answer += myList[i]\n",
    "print(answer)"
   ]
  },
  {
   "cell_type": "code",
   "execution_count": 6,
   "id": "7010c96e",
   "metadata": {},
   "outputs": [
    {
     "name": "stdout",
     "output_type": "stream",
     "text": [
      "1683\n"
     ]
    }
   ],
   "source": [
    "# 3\n",
    "multiple = 0\n",
    "for i in range(1,101):\n",
    "    if i % 3 == 0:\n",
    "        multiple += i\n",
    "print(multiple)\n",
    "\n"
   ]
  },
  {
   "cell_type": "code",
   "execution_count": 14,
   "id": "44c4c8c4",
   "metadata": {},
   "outputs": [
    {
     "name": "stdout",
     "output_type": "stream",
     "text": [
      "1 2 5 10 \n"
     ]
    }
   ],
   "source": [
    "# 4\n",
    "user_input_integer = int(input())\n",
    "\n",
    "multiple_x = \"\"\n",
    "for i in range(1,user_input_integer + 1):\n",
    "\n",
    "    if user_input_integer % i == 0:\n",
    "        multiple_x += str(i) + \" \"\n",
    "print(multiple_x)"
   ]
  }
 ],
 "metadata": {
  "kernelspec": {
   "display_name": "Python 3",
   "language": "python",
   "name": "python3"
  },
  "language_info": {
   "codemirror_mode": {
    "name": "ipython",
    "version": 3
   },
   "file_extension": ".py",
   "mimetype": "text/x-python",
   "name": "python",
   "nbconvert_exporter": "python",
   "pygments_lexer": "ipython3",
   "version": "3.13.5"
  }
 },
 "nbformat": 4,
 "nbformat_minor": 5
}
