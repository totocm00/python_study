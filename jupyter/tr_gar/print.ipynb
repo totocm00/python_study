{
 "cells": [
  {
   "cell_type": "code",
   "execution_count": null,
   "id": "96c17ef4",
   "metadata": {},
   "outputs": [
    {
     "name": "stdout",
     "output_type": "stream",
     "text": [
      "당신의 키180.0cm 가 평균이려면\n",
      "68.4 ~ 75.6 사이 몸무게 \n",
      "\n",
      "평균입니다\n"
     ]
    }
   ],
   "source": [
    "# 표준 체중 = (키-100) x 0.9\n",
    "# user_high, user_weight = map(float, input(\"키와 몸무게를 입력하세요 : (키 몸무게)\").split())\n",
    "user_high = float(input(\"키를 입력하세요: \"))\n",
    "stand_weight = (user_high - 100) *0.9\n",
    "stand_low_weight = stand_weight *0.95\n",
    "stand_high_weight = stand_weight *1.05\n",
    "\n",
    "print(f\"당신의 키{user_high}cm 가 평균이려면\")\n",
    "print(f\"{stand_low_weight:.1f} ~ {stand_high_weight:.1f} 사이 몸무게 \\n\")\n",
    "\n",
    "user_weight = float(input(\"몸무게를 입력하세요: \"))\n",
    "\n",
    "if stand_low_weight > user_weight:\n",
    "    print(\"저체중입니다\")\n",
    "elif stand_high_weight < user_weight:\n",
    "    print(\"과체중입니다\")\n",
    "else:\n",
    "    print(\"평균입니다\")"
   ]
  },
  {
   "cell_type": "code",
   "execution_count": 153,
   "id": "39b46652",
   "metadata": {},
   "outputs": [
    {
     "name": "stdout",
     "output_type": "stream",
     "text": [
      "test4\n",
      "test3\n",
      "test2\n",
      "8 * 9 = ?안나올 때 무슨 결과인지 test용1\n",
      "one 08 two 9 fx * \n",
      "\n",
      "8 * 9 = ?\n",
      "오답입니다. 정답 72\n"
     ]
    }
   ],
   "source": [
    "print(\"test4\")\n",
    "import random\n",
    "\n",
    "# 1. 랜덤으로 덧셈, 뺄셈, 곱셈, 나눗셈을 하나의 함수에 담는다\n",
    "# 2. 두 정수값을 랜덤으로 생성하여 문제를 만든다 // 총 3가지 랜덤\n",
    "# 3. 사용자로부터 답을 입력받아 정답 혹은 오답을 판단하는 프로그램\n",
    "random.seed()\n",
    "operator_random = random.randint(1,4)\n",
    "# operator_fx = \"\"\n",
    "# if operator_random == 1:\n",
    "#     operator_fx = \"+\"\n",
    "# elif operator_random == 2:\n",
    "#     operator_fx = \"-\"\n",
    "# elif operator_random == 3:\n",
    "#     operator_fx = \"*\"\n",
    "# elif operator_random == 4:\n",
    "#     operator_fx = \"/\"\n",
    "# print(f\"램덤으로 뽑힌 연산자는 {operator_fx} 입니다\")\n",
    "\n",
    "#key : value 딕셔너리 형태\n",
    "# key 값은 +, -, *, / 의 문자열\n",
    "# value 는 람다식\n",
    "print(\"test3\")\n",
    "operations = {\n",
    "    \"+\" : lambda a, b: a + b,\n",
    "    \"-\" : lambda a, b: a - b,\n",
    "    \"*\" : lambda a, b: a * b,\n",
    "    \"/\" : lambda a, b: a / b\n",
    "    if b != 0\n",
    "    else \"나눗셈 오류\"\n",
    "}\n",
    "# 랜덤 연산자를 선택 // random.choice는 list 형태로 받음\n",
    "# 자료형변환으로 오퍼레이션.키즈를 딕셔너리에서 리스트로 바꿔줌\n",
    "print(\"test2\")\n",
    "operator_fx = random.choice(list(operations.keys()))\n",
    "integer_random_one, integer_random_two = [random.randint(1, 10) for _ in range(2)]\n",
    "msg = f\"{integer_random_one} {operator_fx} {integer_random_two} = ?\"\n",
    "print(msg + \"안나올 때 무슨 결과인지 test용1\")\n",
    "print(f\"one 0{integer_random_one}\",f\"two {integer_random_two}\",f\"fx {operator_fx} \\n\" )\n",
    "print(msg)\n",
    "\n",
    "answer = operations[operator_fx](integer_random_one, integer_random_two)\n",
    "if float(answer) == 1:\n",
    "    \"{answer} = {answer}:.2f\"\n",
    "\n",
    "try:\n",
    "    user_correct = float(input(\"답을 적어주세요 : \"))\n",
    "\n",
    "    if isinstance(answer, str):\n",
    "        print(\"계산할 수 없는 문제 - 나눗셈 오류\")\n",
    "    elif operator_fx == \"/\" and abs(user_correct - answer) < 0.01:\n",
    "        print([\"*\" for _ in range(5)])\n",
    "        print(\"정답!\")\n",
    "    elif user_correct == answer:\n",
    "        print([\"정답\" for _ in range(3)])\n",
    "        print(\"정답임!\")\n",
    "    else:\n",
    "        print(f\"오답입니다. 정답 {answer}\")\n",
    "except ValueError:\n",
    "    print(\"숫자만 입력하세요\")"
   ]
  },
  {
   "cell_type": "code",
   "execution_count": null,
   "id": "b9f15db5",
   "metadata": {},
   "outputs": [
    {
     "name": "stdout",
     "output_type": "stream",
     "text": [
      "답은 9.29 이다 - 소숫점 2번째 까지 출력\n"
     ]
    }
   ],
   "source": [
    "# 정의되는 함수값을 계산.\n",
    "# 사용자로부터 x값을 입력받아 계산.\n",
    "# X는 실수\n",
    "# f(x) = { x**2 - 9x + 2    x<=0\n",
    "#        { 7x + 2           x>=0\n",
    "user_float_input = float(input(\"x : 실수 값을 입력하세요 \"))\n",
    "answer_float = 0\n",
    "if user_float_input <= 0:\n",
    "    answer_float = user_float_input**2 - 9*user_float_input + 2\n",
    "else:\n",
    "    answer_float = 7*user_float_input + 2\n",
    "print(f\"답은 {answer_float:.2f} 이다. 소숫점 2번째 까지 출력\")"
   ]
  },
  {
   "cell_type": "code",
   "execution_count": 7,
   "id": "a7941101",
   "metadata": {},
   "outputs": [
    {
     "name": "stdout",
     "output_type": "stream",
     "text": [
      "개띠\n"
     ]
    }
   ],
   "source": [
    "# 연도를 입력하면 띠를 출력하는 프로그램을 작성.\n",
    "# 띠는 연도를 12로 나누어 결정\n",
    "# 나머지가 0이면 원숭이띠, 1이면 닭띠, 2이면 개띠, ...11이면 양띠\n",
    "\n",
    "year_input = int(input(\"연도 입력\"))\n",
    "zodiac_sign = [\"원숭이\", \"닭\", \"개\", \"돼지\", \"쥐\", \"소\",\n",
    "               \"호랑이\", \"토끼\", \"용\", \"뱀\", \"말\", \"양\"]\n",
    "input_zodiac = year_input % 12\n",
    "\n",
    "print(zodiac_sign[input_zodiac] + \"띠\")"
   ]
  },
  {
   "cell_type": "code",
   "execution_count": 10,
   "id": "db59498f",
   "metadata": {},
   "outputs": [
    {
     "name": "stdout",
     "output_type": "stream",
     "text": [
      "윤년 x\n"
     ]
    }
   ],
   "source": [
    "# 윤년은 2월달이 29일 까지 있는 연도이다.\n",
    "# 연도가 4로 나누어지지만 100으로 나누어지지 않거나\n",
    "# 또는 연도가 400으로 나누어 떨어지면 윤년이다.\n",
    "# 사용자가 연도를 입력하면 윤년을 판별할 수 있는 프로그램 작성.\n",
    "\n",
    "year = int(input())\n",
    "if (year % 4 == 0) and ((year % 100 != 0) or (year % 400 ==0)):\n",
    "    print(f\"{year}년은 윤년\")\n",
    "else:\n",
    "    print(\"윤년 x\")"
   ]
  },
  {
   "cell_type": "code",
   "execution_count": 8,
   "id": "d2543d94",
   "metadata": {},
   "outputs": [
    {
     "name": "stdout",
     "output_type": "stream",
     "text": [
      "Python Express\n"
     ]
    }
   ],
   "source": [
    "# 사용자로부터 정수를 받아서 3의 배수이면 \"Python\" 를 출력한다\n",
    "# 만약 5의 배수이면 \"Express\"을 출력한다.\n",
    "# 만약 3의 배수이면서 5의 배수이면 \"Python Express\"를 출력한다\n",
    "\n",
    "integer_input = int(input())\n",
    "if integer_input % 3 == 0 and integer_input % 5 == 0:\n",
    "    print(\"Python Express\")\n",
    "elif integer_input % 3 == 0:\n",
    "    print(\"Python\")\n",
    "elif integer_input % 5 == 0:\n",
    "    print(\"Express\")\n",
    "else:\n",
    "    (\"정수를 입력하세요\")"
   ]
  }
 ],
 "metadata": {
  "kernelspec": {
   "display_name": ".venv",
   "language": "python",
   "name": "python3"
  },
  "language_info": {
   "codemirror_mode": {
    "name": "ipython",
    "version": 3
   },
   "file_extension": ".py",
   "mimetype": "text/x-python",
   "name": "python",
   "nbconvert_exporter": "python",
   "pygments_lexer": "ipython3",
   "version": "3.13.5"
  }
 },
 "nbformat": 4,
 "nbformat_minor": 5
}
