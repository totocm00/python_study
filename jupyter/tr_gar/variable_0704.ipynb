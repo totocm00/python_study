{
 "cells": [
  {
   "cell_type": "code",
   "execution_count": 23,
   "id": "ef8cef35",
   "metadata": {},
   "outputs": [
    {
     "name": "stdout",
     "output_type": "stream",
     "text": [
      "성인입니다.\n"
     ]
    }
   ],
   "source": [
    "age = int(input(\"나이를 입력하세요 : \"))\n",
    "\n",
    "if age > 20:\n",
    "    print(\"성인입니다.\")\n",
    "elif age < 20 and age > 0:\n",
    "    print(\"미성년자입니다\")\n",
    "else:\n",
    "    print(\"잘 못 입력\")"
   ]
  },
  {
   "cell_type": "code",
   "execution_count": 39,
   "id": "931a5edc",
   "metadata": {},
   "outputs": [
    {
     "name": "stdout",
     "output_type": "stream",
     "text": [
      "100점이하의 점수를 입력하세요\n"
     ]
    },
    {
     "ename": "TypeError",
     "evalue": "exceptions must derive from BaseException",
     "output_type": "error",
     "traceback": [
      "\u001b[31m---------------------------------------------------------------------------\u001b[39m",
      "\u001b[31mTypeError\u001b[39m                                 Traceback (most recent call last)",
      "\u001b[36mCell\u001b[39m\u001b[36m \u001b[39m\u001b[32mIn[39]\u001b[39m\u001b[32m, line 8\u001b[39m\n\u001b[32m      5\u001b[39m score = \u001b[38;5;28mint\u001b[39m(\u001b[38;5;28minput\u001b[39m(\u001b[33m\"\u001b[39m\u001b[33m성적을 입력하시오: \u001b[39m\u001b[33m\"\u001b[39m))\n\u001b[32m      7\u001b[39m \u001b[38;5;28;01mif\u001b[39;00m score > \u001b[32m100\u001b[39m:\n\u001b[32m----> \u001b[39m\u001b[32m8\u001b[39m     \u001b[38;5;28;01mraise\u001b[39;00m \u001b[38;5;28mprint\u001b[39m(\u001b[33m\"\u001b[39m\u001b[33m100점이하의 점수를 입력하세요\u001b[39m\u001b[33m\"\u001b[39m)    \n\u001b[32m     10\u001b[39m \u001b[38;5;28;01mif\u001b[39;00m score >= \u001b[32m90\u001b[39m:\n\u001b[32m     11\u001b[39m     \u001b[38;5;28mprint\u001b[39m(\u001b[33m\"\u001b[39m\u001b[33m학점 A\u001b[39m\u001b[33m\"\u001b[39m)\n",
      "\u001b[31mTypeError\u001b[39m: exceptions must derive from BaseException"
     ]
    }
   ],
   "source": [
    "#try 안의 조건문을 if로 감싸는 경우가 있을 때 빨간줄 그여서 밖에서 정의? 해줌\n",
    "score = 0\n",
    "msg = \"잘 못 된 값입니다.\"\n",
    "try:\n",
    "    score = int(input(\"성적을 입력하시오: \"))\n",
    "\n",
    "    if score > 100:\n",
    "        raise print(\"100점이하의 점수를 입력하세요\")    \n",
    "\n",
    "    if score >= 90:\n",
    "        print(\"학점 A\")\n",
    "    elif score >= 80:\n",
    "        print(\"학점 B\")\n",
    "    elif score >= 70:\n",
    "        print(\"학점 C\")\n",
    "    elif score >= 60:\n",
    "        print(\"학점 D\")\n",
    "    else:\n",
    "        print(\"학점 F\")\n",
    "except ValueError:\n",
    "    print(msg)"
   ]
  },
  {
   "cell_type": "code",
   "execution_count": 48,
   "id": "b921e684",
   "metadata": {},
   "outputs": [
    {
     "name": "stdout",
     "output_type": "stream",
     "text": [
      "약수입니다\n"
     ]
    }
   ],
   "source": [
    "x1 = int(input(\"첫번째 정수를 입력하세요\"))\n",
    "x2 = int(input(\"두번째 정수를 입력하세요\"))\n",
    "\n",
    "if x1 % x2 == 0:\n",
    "    print(\"약수입니다\")\n",
    "else:\n",
    "    print(\"약수 x\")"
   ]
  },
  {
   "cell_type": "code",
   "execution_count": 50,
   "id": "c1c79241",
   "metadata": {},
   "outputs": [
    {
     "name": "stdout",
     "output_type": "stream",
     "text": [
      "반바지를 추천\n"
     ]
    }
   ],
   "source": [
    "x3 = float(input(\"현재 온도를 입력하세요 : \"))\n",
    "\n",
    "if x3 > 25:\n",
    "    print(\"반바지를 추천\")\n",
    "if x3 < 25:\n",
    "    print(\"긴바지를 추천\")"
   ]
  },
  {
   "cell_type": "code",
   "execution_count": 70,
   "id": "6948dcac",
   "metadata": {},
   "outputs": [
    {
     "name": "stdout",
     "output_type": "stream",
     "text": [
      "Circle\n"
     ]
    }
   ],
   "source": [
    "R , r = 'R' , 'r'\n",
    "T , t = 'T' , 't'\n",
    "C , c = 'C' , 'c'\n",
    "x4 = input(\"하나의 문자를 입력하세요 : \")\n",
    "core = \"\"\n",
    "if (x4 == R or x4 == r):\n",
    "    core = \"Rectangle\"\n",
    "if (x4 == T or x4 == t):\n",
    "    core = \"Triangle\"\n",
    "if (x4 == C or x4 == c):\n",
    "    core = \"Circle\"\n",
    "\n",
    "if (core != \"\"):\n",
    "    print(core)\n",
    "else:\n",
    "    print(\"Unknown\")"
   ]
  },
  {
   "cell_type": "code",
   "execution_count": 71,
   "id": "dbf2d572",
   "metadata": {},
   "outputs": [
    {
     "name": "stdout",
     "output_type": "stream",
     "text": [
      "원의 넓이는 157.0 입니다\n"
     ]
    }
   ],
   "source": [
    "x5 = float(input(\"반지름을 입력하세요 : \"))\n",
    "cir = 2* 3.14* (x5**2)\n",
    "print(f\"원의 넓이는 {cir} 입니다\")"
   ]
  },
  {
   "cell_type": "code",
   "execution_count": null,
   "id": "5d5563cf",
   "metadata": {},
   "outputs": [
    {
     "name": "stdout",
     "output_type": "stream",
     "text": [
      "가장 작은 값은 5\n"
     ]
    }
   ],
   "source": [
    "x6, x7, x8 = map(int, input(\"세 정수를 입력하세요 (x y z)\").split())\n",
    "min_num = 0\n",
    "if(x6 < x7):\n",
    "    min_num = x6\n",
    "else:\n",
    "    min_num = x7\n",
    "if(min_num > x8):\n",
    "    max_num = x8\n",
    "    \n",
    "print(f\"가장 작은 값은 {min_num}\")"
   ]
  },
  {
   "cell_type": "code",
   "execution_count": null,
   "id": "a6efc8ce",
   "metadata": {},
   "outputs": [
    {
     "name": "stdout",
     "output_type": "stream",
     "text": [
      "비김\n"
     ]
    }
   ],
   "source": [
    "import random\n",
    "random.seed()\n",
    "com = random.randint(1,3)\n",
    "fiteCom = \"\"\n",
    "if com == 1:\n",
    "    fiteCom = \"가위\"\n",
    "if com == 2:\n",
    "    fiteCom = \"바위\"\n",
    "if com == 3:\n",
    "    fiteCom = \"보\"\n",
    "\n",
    "x9 = input(\"가위 바위 보 중 하나를 입력하세요 : \")\n",
    "\n",
    "userNum = 0\n",
    "if x9 == \"가위\":\n",
    "    userNum = 1\n",
    "elif x9 == \"바위\":\n",
    "    userNum = 2\n",
    "elif x9 == \"보\":\n",
    "    userNum = 3\n",
    "else:\n",
    "    print(\"가위 바위 보 입력이 아닙니다.\")\n",
    "\n",
    "result = 0\n",
    "drow = \"비김\"\n",
    "if userNum == com:\n",
    "    print(drow)\n",
    "elif (userNum == 1 and com == 3) or (userNum == 2 and com == 1) or (userNum == 3 and com == 2):\n",
    "    print(\"사람 승리\")\n",
    "else:\n",
    "    print(\"컴퓨터 승리\")\n"
   ]
  },
  {
   "cell_type": "code",
   "execution_count": 153,
   "id": "19391744",
   "metadata": {},
   "outputs": [
    {
     "name": "stdout",
     "output_type": "stream",
     "text": [
      "입장 불가능\n"
     ]
    }
   ],
   "source": [
    "parkLolHighCut = 140\n",
    "prakLolageCut = 10\n",
    "\n",
    "user_age, user_high = map(float, input(\"나이와 키를 순서대로 입력 (x y) :\").split())\n",
    "if user_age >= prakLolageCut and user_high >= parkLolHighCut:\n",
    "    print(\"입장가능\")\n",
    "else:\n",
    "    print(\"입장 불가능\")"
   ]
  },
  {
   "cell_type": "code",
   "execution_count": 6,
   "id": "ed617882",
   "metadata": {},
   "outputs": [
    {
     "name": "stdout",
     "output_type": "stream",
     "text": [
      "저체중입니다\n"
     ]
    }
   ],
   "source": [
    "# 표준 체중 = (키-100) x 0.9\n",
    "#user_high = float(input(\"키를 입력하세요: \"))\n",
    "#user_weight = float(input(\"몸무게를 입력하세요: \"))\n",
    "user_high, user_weight = map(float, input(\"키와 몸무게를 입력하세요 : (키 몸무게)\").split())\n",
    "\n",
    "stand_weight = (user_high - 100) *0.9\n",
    "\n",
    "if stand_weight > user_weight:\n",
    "    print(\"저체중입니다\")\n",
    "elif stand_weight < user_weight:\n",
    "    print(\"과체중입니다\")\n",
    "else:\n",
    "    print(\"평균입니다\")"
   ]
  },
  {
   "cell_type": "code",
   "execution_count": null,
   "id": "9338654b",
   "metadata": {},
   "outputs": [
    {
     "name": "stdout",
     "output_type": "stream",
     "text": [
      "모음의 개수: 2\n",
      "자음의 개수: 3\n",
      "소문자로 바꾸기: asdas\n",
      "대문자로 바꾸기: ASDAS\n"
     ]
    }
   ],
   "source": [
    "original = input(\"문자열을 입력하시오:\")\n",
    "word = original.lower()\n",
    "vowels =0\n",
    "consonants = 0\n",
    "\n",
    "# is.isalpha()\n",
    "# 한글, 일본어 다 가능함 그래서 특수문자 검출할 때 사용\n",
    "\n",
    "if len(original) > 0 and original.isalpha():\n",
    "\tfor char in word:\n",
    "\t\tif char in 'aeiou':\n",
    "\t\t\tvowels = vowels +1\n",
    "\t\t\t\n",
    "\t\telse:\n",
    "\t\t\tconsonants = consonants + 1\n",
    "\t\t\t\n",
    "\tprint(\"모음의 개수:\", vowels)\n",
    "\tprint(\"자음의 개수:\", consonants)\n",
    "\tprint(\"소문자로 바꾸기:\", original.lower())\n",
    "\tprint(\"대문자로 바꾸기:\", original.upper())\n",
    "\n",
    "    \n",
    "\t\n",
    "\n",
    "\n"
   ]
  },
  {
   "cell_type": "code",
   "execution_count": 2,
   "id": "84e5cd71",
   "metadata": {},
   "outputs": [
    {
     "name": "stdout",
     "output_type": "stream",
     "text": [
      "모음의 개수 0\n",
      "자음의 개수 6\n",
      "소문자로 바꾸기: ㄴㅁㅇㅁㄴㅇ\n",
      "대문자로 바꾸기: ㄴㅁㅇㅁㄴㅇ\n"
     ]
    }
   ],
   "source": [
    "original = input(\"문자열을 입력하시요:\")\n",
    "word = original.lower()         # 입력 받은 문자열을 소문자로 변경한다.\n",
    "vowels = 0\n",
    "consonants = 0\n",
    "\n",
    "#if not original.isalpha():  # 문자열이 알파벳이라면\n",
    "for char in original:\n",
    "    if 0xAC00 <= ord(char) <= 0xD7A3:\n",
    "        original = input(\"알파벳이 아닙니다, 다시 입력해주세요: \")\n",
    "        break\n",
    "\n",
    "if len(original) > 0 and original.isalpha():        # 문자열의 길이가 0 초과이고, 알파벳이라면\n",
    "    for char in word:                               # 각 문자에 대한 반복을 실행\n",
    "        if char in \"aeiou\":\n",
    "            vowels = vowels + 1                     # vowels변수에 1을 증가한다\n",
    "        else:                                       # 모음이 아니라면...\n",
    "            consonants = consonants + 1             # consonants변수에 1을 증가한다\n",
    "print(\"모음의 개수\", vowels)\n",
    "print(\"자음의 개수\", consonants)\n",
    "print(\"소문자로 바꾸기:\", original.lower())\n",
    "print(\"대문자로 바꾸기:\", original.upper())\n",
    "\n"
   ]
  }
 ],
 "metadata": {
  "kernelspec": {
   "display_name": "Python 3",
   "language": "python",
   "name": "python3"
  },
  "language_info": {
   "codemirror_mode": {
    "name": "ipython",
    "version": 3
   },
   "file_extension": ".py",
   "mimetype": "text/x-python",
   "name": "python",
   "nbconvert_exporter": "python",
   "pygments_lexer": "ipython3",
   "version": "3.13.5"
  }
 },
 "nbformat": 4,
 "nbformat_minor": 5
}
