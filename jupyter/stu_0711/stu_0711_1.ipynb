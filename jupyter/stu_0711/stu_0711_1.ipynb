{
 "cells": [
  {
   "cell_type": "code",
   "execution_count": null,
   "id": "3e74aa80",
   "metadata": {},
   "outputs": [],
   "source": [
    "# pr\n",
    "\n",
    "def solution(number, n, m):\n",
    "    answer = 0\n",
    "    if number % n == 0 and number % m == 0:\n",
    "        return 1\n",
    "    return answer"
   ]
  },
  {
   "cell_type": "code",
   "execution_count": null,
   "id": "e3619052",
   "metadata": {},
   "outputs": [
    {
     "name": "stdout",
     "output_type": "stream",
     "text": [
      "1\n",
      "2\n",
      "3\n",
      "4\n"
     ]
    }
   ],
   "source": [
    "# 9\n",
    "# 사용자 정수 2개 받고\n",
    "# 최대 공약수\n",
    "\n",
    "def gcd(a, b):\n",
    "    while b:\n",
    "        a, b = b, a % b\n",
    "    return a\n",
    "\n",
    "\n",
    "# input_one, input_two = map(int, input(\"정수 둘 입력\").split())\n",
    "input_threee = list(map(int, input(\"정수 추가 입력\").split()))\n",
    "# print(input_one)\n",
    "# print(input_two)\n",
    "# print(input_threee[0])\n",
    "# print(input_threee[1])\n",
    "\n",
    "a, b = input_threee\n",
    "result = gcd(a,b)"
   ]
  }
 ],
 "metadata": {
  "kernelspec": {
   "display_name": "Python 3",
   "language": "python",
   "name": "python3"
  },
  "language_info": {
   "codemirror_mode": {
    "name": "ipython",
    "version": 3
   },
   "file_extension": ".py",
   "mimetype": "text/x-python",
   "name": "python",
   "nbconvert_exporter": "python",
   "pygments_lexer": "ipython3",
   "version": "3.13.5"
  }
 },
 "nbformat": 4,
 "nbformat_minor": 5
}
