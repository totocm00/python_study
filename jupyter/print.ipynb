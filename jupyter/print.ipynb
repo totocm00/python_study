{
 "cells": [
  {
   "cell_type": "code",
   "execution_count": null,
   "id": "96c17ef4",
   "metadata": {},
   "outputs": [],
   "source": [
    "print(\"hello\")"
   ]
  }
 ],
 "metadata": {
  "language_info": {
   "name": "python"
  }
 },
 "nbformat": 4,
 "nbformat_minor": 5
}
