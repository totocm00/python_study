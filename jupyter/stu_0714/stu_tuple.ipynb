{
 "cells": [
  {
   "cell_type": "code",
   "execution_count": 3,
   "id": "13c76b69",
   "metadata": {},
   "outputs": [
    {
     "name": "stdout",
     "output_type": "stream",
     "text": [
      "(10,)\n",
      "<class 'tuple'>\n",
      "(1, 2, 3, 4, 5)\n"
     ]
    }
   ],
   "source": [
    "t = (10,)\n",
    "print(t)\n",
    "t = tuple( [1,2,3,4,5] )\n",
    "print(type(t))\n",
    "print(t)"
   ]
  },
  {
   "cell_type": "code",
   "execution_count": 8,
   "id": "23d2a2eb",
   "metadata": {},
   "outputs": [
    {
     "name": "stdout",
     "output_type": "stream",
     "text": [
      "(1, 2, 3, 4, 5, 'red', 'green', 'blue')\n"
     ]
    }
   ],
   "source": [
    "numbers = (1,2,3,4,5)\n",
    "colors = (\"red\", \"green\", \"blue\")\n",
    "t = numbers + colors\n",
    "print(t)"
   ]
  },
  {
   "cell_type": "code",
   "execution_count": 11,
   "id": "4fedf89b",
   "metadata": {},
   "outputs": [
    {
     "name": "stdout",
     "output_type": "stream",
     "text": [
      "<class 'tuple'>\n",
      "<class 'tuple'>\n",
      "<class 'tuple'>\n"
     ]
    }
   ],
   "source": [
    "t1 = 'python', 'casdasw'\n",
    "t2 = 1,2,3,4,5\n",
    "t3 = \"a\", \"b\", \"c\"\n",
    "print(type(t1))\n",
    "print(type(t2))\n",
    "print(type(t3))"
   ]
  },
  {
   "cell_type": "code",
   "execution_count": 6,
   "id": "73cb0eb5",
   "metadata": {},
   "outputs": [
    {
     "name": "stdout",
     "output_type": "stream",
     "text": [
      "((1, 2, 'hello!'), (1, 2, 3, 4, 5))\n",
      "<class 'tuple'>\n",
      "<class 'tuple'>\n"
     ]
    }
   ],
   "source": [
    "t = (1,2, 'hello!')\n",
    "u = t, (1,2,3,4,5)\n",
    "print(u)\n",
    "print(type(u))\n",
    "print(type(t))"
   ]
  },
  {
   "cell_type": "code",
   "execution_count": 12,
   "id": "3f028c6e",
   "metadata": {},
   "outputs": [
    {
     "name": "stdout",
     "output_type": "stream",
     "text": [
      "철수\n",
      "19\n",
      "CS\n",
      "<class 'str'>\n"
     ]
    }
   ],
   "source": [
    "student1 = (\"철수\", 19, \"CS\")\n",
    "(name, age, major) = student1\n",
    "print(name)\n",
    "print(age)\n",
    "print(major)\n",
    "print(type(name))\n"
   ]
  },
  {
   "cell_type": "code",
   "execution_count": 18,
   "id": "55a5bef9",
   "metadata": {},
   "outputs": [
    {
     "name": "stdout",
     "output_type": "stream",
     "text": [
      "{1, 2, 3}\n"
     ]
    }
   ],
   "source": [
    "number = {2, 1, 3}\n",
    "print(number)"
   ]
  },
  {
   "cell_type": "code",
   "execution_count": 26,
   "id": "7a425d79",
   "metadata": {},
   "outputs": [
    {
     "name": "stdout",
     "output_type": "stream",
     "text": [
      "{'Apple', 'Banana', 'Pineapple'}\n",
      "{1.0, 2.0, (1, 2, 3), 'Hello World'}\n"
     ]
    }
   ],
   "source": [
    "fruits = {\"Apple\", \"Banana\", \"Pineapple\"}\n",
    "mySet = { 1.0, 2.0, \"Hello World\", (1,2,3)}\n",
    "print(fruits)\n",
    "print(mySet)"
   ]
  },
  {
   "cell_type": "code",
   "execution_count": null,
   "id": "90b89f40",
   "metadata": {},
   "outputs": [
    {
     "name": "stdout",
     "output_type": "stream",
     "text": [
      "{'Seo', 'Lon', 'Berlin', 'Par'}\n"
     ]
    }
   ],
   "source": [
    "# 세트는 집합이기 때문에 요소가 중복되면 자동으로 중복된 요소를 제거한다.\n",
    "cities = { \"Par\", \"Seo\", \"Lon\", \"Seo\", \"Berlin\", \"Lon\"}\n",
    "print(cities)\n",
    "\n",
    "# 비어 있는 세트를 생성하려면 set() 함수를 사용한다.\n",
    "numbers = set()\n"
   ]
  }
 ],
 "metadata": {
  "kernelspec": {
   "display_name": "Python 3",
   "language": "python",
   "name": "python3"
  },
  "language_info": {
   "codemirror_mode": {
    "name": "ipython",
    "version": 3
   },
   "file_extension": ".py",
   "mimetype": "text/x-python",
   "name": "python",
   "nbconvert_exporter": "python",
   "pygments_lexer": "ipython3",
   "version": "3.13.5"
  }
 },
 "nbformat": 4,
 "nbformat_minor": 5
}
