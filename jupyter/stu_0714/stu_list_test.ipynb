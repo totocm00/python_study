{
 "cells": [
  {
   "cell_type": "code",
   "execution_count": null,
   "id": "76962b57",
   "metadata": {},
   "outputs": [
    {
     "name": "stdout",
     "output_type": "stream",
     "text": [
      "[1, 2, 3, 4, 5]\n"
     ]
    },
    {
     "data": {
      "text/plain": [
       "15"
      ]
     },
     "execution_count": 25,
     "metadata": {},
     "output_type": "execute_result"
    }
   ],
   "source": [
    "# 1\n",
    "# 입력을 받고\n",
    "# 리스트로 만드는데\n",
    "# 합계를 저장하는 프로그램  -> 재귀함수를 만들어서 사용해보기\n",
    "# 함수를 사용해서 만든다\n",
    "\n",
    "\n",
    "def list_number_maker(list_a,user_input):\n",
    "    if user_input.isdigit():\n",
    "        list_a.append(int(user_input))\n",
    "    if int(user_input) < 0:\n",
    "        list_a.append(int(user_input))\n",
    "\n",
    "        return list_a\n",
    "    return list_a\n",
    "\n",
    "def input_user():\n",
    "    return input(\"리스트에 넣을 값을 입력하세요\")\n",
    "\n",
    "def sum_maker(list_a):\n",
    "    if not list_a:\n",
    "        return 0\n",
    "    return list_a[0] + sum_maker(list_a[1:])\n",
    "\n",
    "list_a = []\n",
    "\n",
    "for i in range(5):\n",
    "    list_a =  list_number_maker(list_a,input_user())\n",
    "\n",
    "print(list_a)\n",
    "sum_maker(list_a)"
   ]
  },
  {
   "cell_type": "code",
   "execution_count": 29,
   "id": "6e960ec5",
   "metadata": {},
   "outputs": [
    {
     "name": "stdout",
     "output_type": "stream",
     "text": [
      "[49, 2, 38, 34, 82, 42, 80, 56, 30, 67]\n"
     ]
    }
   ],
   "source": [
    "import random\n",
    "\n",
    "def randomInt():\n",
    "    list_array = list()\n",
    "    cnt = 0\n",
    "    while True:\n",
    "        if cnt == 10:\n",
    "            break\n",
    "        list_array.append(random.randint(1,100))\n",
    "        cnt+=1\n",
    "    print(list_array)\n",
    "\n",
    "randomInt()"
   ]
  },
  {
   "cell_type": "code",
   "execution_count": 31,
   "id": "bfaa551b",
   "metadata": {},
   "outputs": [
    {
     "name": "stdout",
     "output_type": "stream",
     "text": [
      "실행 전 [1, 2, 3, 4, 5, 6, 7, 8, 9, 10]\n",
      "실행 후 [1, 2, -3, -4, -5, -6, -7, -8, 9, 10]\n",
      "[0, 1, 2, 3, 4]\n",
      "[1, 2, 3, 4]\n"
     ]
    }
   ],
   "source": [
    "def minuslist(alist):\n",
    "    print('실행 전',alist)\n",
    "\n",
    "    alist_after = [-i if 3<=i and i<=8 else i for i in alist]\n",
    "    print('실행 후',alist_after)\n",
    "\n",
    "alist = [1,2,3,4,5,6,7,8,9,10]\n",
    "minuslist(alist)\n",
    "\n",
    "a = [ x for x in range(5)]\n",
    "b = [1,2,3,4]\n",
    "print(a)\n",
    "print(b)"
   ]
  }
 ],
 "metadata": {
  "kernelspec": {
   "display_name": "Python 3",
   "language": "python",
   "name": "python3"
  },
  "language_info": {
   "codemirror_mode": {
    "name": "ipython",
    "version": 3
   },
   "file_extension": ".py",
   "mimetype": "text/x-python",
   "name": "python",
   "nbconvert_exporter": "python",
   "pygments_lexer": "ipython3",
   "version": "3.13.5"
  }
 },
 "nbformat": 4,
 "nbformat_minor": 5
}
