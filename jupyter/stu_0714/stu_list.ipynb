{
 "cells": [
  {
   "cell_type": "code",
   "execution_count": 15,
   "id": "1cbc8f27",
   "metadata": {},
   "outputs": [
    {
     "name": "stdout",
     "output_type": "stream",
     "text": [
      "[32, 56, 64, 72, 12, 37, 98, 77, 59, 69]\n",
      "<class 'list'>\n",
      "2581390341312\n",
      "32\n",
      "56\n",
      "72\n",
      "0 32\n",
      "1 56\n",
      "2 64\n",
      "3 72\n",
      "4 12\n",
      "5 37\n",
      "6 98\n",
      "7 77\n",
      "8 59\n",
      "9 69\n"
     ]
    }
   ],
   "source": [
    "scores = [32, 56, 64, 72, 12, 37, 98, 77, 59, 69]\n",
    "\n",
    "print(scores)\n",
    "print(type(scores))\n",
    "print(id(scores)) # address는 아니고 이 값의 id 라고 생각\n",
    "print(scores[0])\n",
    "print(scores[1])\n",
    "print(scores[3])\n",
    "\n",
    "for i in range(len(scores)):\n",
    "    print(i,scores[i])\n",
    "\n"
   ]
  },
  {
   "cell_type": "code",
   "execution_count": 23,
   "id": "62de1f36",
   "metadata": {},
   "outputs": [
    {
     "name": "stdout",
     "output_type": "stream",
     "text": [
      "[]\n",
      "['H', 'e', 'l', 'l', 'o']\n",
      "[0, 1, 2, 3, 4]\n"
     ]
    }
   ],
   "source": [
    "list1 = list()\n",
    "list2 = list(\"Hello\")\n",
    "list3 = list(range(0,5))\n",
    "print(list1)\n",
    "print(list2)\n",
    "print(list3)"
   ]
  },
  {
   "cell_type": "code",
   "execution_count": 9,
   "id": "bcac6110",
   "metadata": {},
   "outputs": [
    {
     "name": "stdout",
     "output_type": "stream",
     "text": [
      "r\n",
      "120\n"
     ]
    }
   ],
   "source": [
    "text = \"Will is power\"\n",
    "\n",
    "print(text[-1])\n",
    "\n",
    "factory = [1,2,3,4,5]\n",
    "\n",
    "def asd(fac):\n",
    "    if fac == 1:\n",
    "        return 1\n",
    "    else:\n",
    "        return fac * asd(fac-1)\n",
    "\n",
    "print(asd(5))\n"
   ]
  },
  {
   "cell_type": "code",
   "execution_count": null,
   "id": "823f9711",
   "metadata": {},
   "outputs": [
    {
     "name": "stdout",
     "output_type": "stream",
     "text": [
      "[1, 2, 3, 4, 5]\n",
      "[100, 2, 3, 4, 5]\n",
      "[100, 2, 3, 4, 5]\n"
     ]
    }
   ],
   "source": [
    "a = [1, 2, 3,4, 5]\n",
    "b = a[:]\n",
    "print(b)\n",
    "b [0] = 100\n",
    "print(a)\n",
    "print(b)"
   ]
  },
  {
   "cell_type": "code",
   "execution_count": 14,
   "id": "467b7a5a",
   "metadata": {},
   "outputs": [
    {
     "name": "stdout",
     "output_type": "stream",
     "text": [
      "4\n",
      "5\n",
      "6\n"
     ]
    }
   ],
   "source": [
    "squares = [1,2,3,4,5,6,7,8,9,10]\n",
    "for i in squares[3:6]:\n",
    "    print(i)\n",
    "\n",
    "for i in squares[3:2]:\n",
    "    print(i+\"dd\")"
   ]
  }
 ],
 "metadata": {
  "kernelspec": {
   "display_name": "Python 3",
   "language": "python",
   "name": "python3"
  },
  "language_info": {
   "codemirror_mode": {
    "name": "ipython",
    "version": 3
   },
   "file_extension": ".py",
   "mimetype": "text/x-python",
   "name": "python",
   "nbconvert_exporter": "python",
   "pygments_lexer": "ipython3",
   "version": "3.13.5"
  }
 },
 "nbformat": 4,
 "nbformat_minor": 5
}
